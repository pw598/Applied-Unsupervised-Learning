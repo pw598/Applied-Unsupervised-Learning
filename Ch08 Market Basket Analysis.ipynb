{
 "cells": [
  {
   "cell_type": "markdown",
   "id": "ec541f69-1ec0-4dcb-a74d-a3531883876e",
   "metadata": {},
   "source": [
    "# Ch08 Market Basket Analysis"
   ]
  },
  {
   "cell_type": "markdown",
   "id": "dfac32fb-9c27-4e6e-8e26-73c6a2e2af22",
   "metadata": {},
   "source": [
    "# Exercise 39: Creating Sample Transaction Data"
   ]
  },
  {
   "cell_type": "markdown",
   "id": "cb787b44-3ef3-4df8-b2ad-67ae8473d5e2",
   "metadata": {},
   "source": [
    "1. Open a Jupyter notebook with Python 3"
   ]
  },
  {
   "cell_type": "markdown",
   "id": "414e16b5-23fb-46f7-8aa6-ddd05ea41ea1",
   "metadata": {},
   "source": [
    "2. Install the following libraries: matplotlib.pyplot, which is used to plot the results of the models, mlxtend.frequent_patterns, which is used to run the models, mlxtend.preprocessing, which is used to encode and prep the data for the models, numpy, which is used to work with arrays, and pandas, which is used to work with DataFrames"
   ]
  },
  {
   "cell_type": "code",
   "execution_count": 1,
   "id": "48796048-30be-4d6e-8911-840cb5c1370b",
   "metadata": {
    "tags": []
   },
   "outputs": [
    {
     "name": "stdout",
     "output_type": "stream",
     "text": [
      "Requirement already satisfied: mlxtend in c:\\programdata\\anaconda3\\lib\\site-packages (0.23.0)\n",
      "Requirement already satisfied: scipy>=1.2.1 in c:\\programdata\\anaconda3\\lib\\site-packages (from mlxtend) (1.10.1)\n",
      "Requirement already satisfied: numpy>=1.16.2 in c:\\users\\patwh\\appdata\\roaming\\python\\python311\\site-packages (from mlxtend) (1.24.4)\n",
      "Requirement already satisfied: pandas>=0.24.2 in c:\\users\\patwh\\appdata\\roaming\\python\\python311\\site-packages (from mlxtend) (2.1.0)\n",
      "Requirement already satisfied: scikit-learn>=1.0.2 in c:\\users\\patwh\\appdata\\roaming\\python\\python311\\site-packages (from mlxtend) (1.3.0)\n",
      "Requirement already satisfied: matplotlib>=3.0.0 in c:\\users\\patwh\\appdata\\roaming\\python\\python311\\site-packages (from mlxtend) (3.7.3)\n",
      "Requirement already satisfied: joblib>=0.13.2 in c:\\programdata\\anaconda3\\lib\\site-packages (from mlxtend) (1.2.0)\n",
      "Requirement already satisfied: contourpy>=1.0.1 in c:\\programdata\\anaconda3\\lib\\site-packages (from matplotlib>=3.0.0->mlxtend) (1.0.5)\n",
      "Requirement already satisfied: cycler>=0.10 in c:\\programdata\\anaconda3\\lib\\site-packages (from matplotlib>=3.0.0->mlxtend) (0.11.0)\n",
      "Requirement already satisfied: fonttools>=4.22.0 in c:\\programdata\\anaconda3\\lib\\site-packages (from matplotlib>=3.0.0->mlxtend) (4.25.0)\n",
      "Requirement already satisfied: kiwisolver>=1.0.1 in c:\\programdata\\anaconda3\\lib\\site-packages (from matplotlib>=3.0.0->mlxtend) (1.4.4)\n",
      "Requirement already satisfied: packaging>=20.0 in c:\\programdata\\anaconda3\\lib\\site-packages (from matplotlib>=3.0.0->mlxtend) (23.0)\n",
      "Requirement already satisfied: pillow>=6.2.0 in c:\\programdata\\anaconda3\\lib\\site-packages (from matplotlib>=3.0.0->mlxtend) (9.4.0)\n",
      "Requirement already satisfied: pyparsing>=2.3.1 in c:\\programdata\\anaconda3\\lib\\site-packages (from matplotlib>=3.0.0->mlxtend) (3.0.9)\n",
      "Requirement already satisfied: python-dateutil>=2.7 in c:\\programdata\\anaconda3\\lib\\site-packages (from matplotlib>=3.0.0->mlxtend) (2.8.2)\n",
      "Requirement already satisfied: pytz>=2020.1 in c:\\programdata\\anaconda3\\lib\\site-packages (from pandas>=0.24.2->mlxtend) (2022.7)\n",
      "Requirement already satisfied: tzdata>=2022.1 in c:\\users\\patwh\\appdata\\roaming\\python\\python311\\site-packages (from pandas>=0.24.2->mlxtend) (2023.3)\n",
      "Requirement already satisfied: threadpoolctl>=2.0.0 in c:\\programdata\\anaconda3\\lib\\site-packages (from scikit-learn>=1.0.2->mlxtend) (2.2.0)\n",
      "Requirement already satisfied: six>=1.5 in c:\\programdata\\anaconda3\\lib\\site-packages (from python-dateutil>=2.7->matplotlib>=3.0.0->mlxtend) (1.16.0)\n"
     ]
    }
   ],
   "source": [
    "!pip install mlxtend"
   ]
  },
  {
   "cell_type": "code",
   "execution_count": 2,
   "id": "1ea5eae1-f442-4d70-ac7a-a8af5bca2544",
   "metadata": {
    "tags": []
   },
   "outputs": [],
   "source": [
    "import matplotlib.pyplot as plt\n",
    "import mlxtend.frequent_patterns\n",
    "import mlxtend.preprocessing\n",
    "import numpy\n",
    "import pandas"
   ]
  },
  {
   "cell_type": "code",
   "execution_count": null,
   "id": "a522fd1e-858b-4fec-bc92-0bec0fa690a9",
   "metadata": {},
   "outputs": [],
   "source": []
  },
  {
   "cell_type": "markdown",
   "id": "4960164b-ebf3-4e54-b63c-32fef66e35c2",
   "metadata": {},
   "source": [
    "3. Create 10 fake transactions featuring grocery store items. The data will take the form of a list of lists, a data structure that will be relevant later when discussing formatting transaction data for the models:"
   ]
  },
  {
   "cell_type": "code",
   "execution_count": 3,
   "id": "b70cdb05-6aae-4b12-b3bf-49272f7cf3dc",
   "metadata": {},
   "outputs": [],
   "source": [
    "example = [\n",
    "    ['milk', 'bread', 'apples', 'cereal', 'jelly', \n",
    "     'cookies', 'salad', 'tomatoes'],\n",
    "    ['beer', 'milk', 'chips', 'salsa', 'grapes', \n",
    "     'wine', 'potatoes', 'eggs', 'carrots'],\n",
    "    ['diapers', 'baby formula', 'milk', 'bread', \n",
    "     'chicken', 'asparagus', 'cookies'],\n",
    "    ['milk', 'cookies', 'chicken', 'asparagus', \n",
    "     'broccoli', 'cereal', 'orange juice'],\n",
    "    ['steak', 'asparagus', 'broccoli', 'chips', \n",
    "     'salsa', 'ketchup', 'potatoes', 'salad'],\n",
    "    ['beer', 'salsa', 'asparagus', 'wine', 'cheese', \n",
    "     'crackers', 'strawberries', 'cookies'],\n",
    "    ['chocolate cake', 'strawberries', 'wine', 'cheese', \n",
    "     'beer', 'milk', 'orange juice'],\n",
    "    ['chicken', 'peas', 'broccoli', 'milk', 'bread', \n",
    "     'eggs', 'potatoes', 'ketchup', 'crackers'],\n",
    "    ['eggs', 'bread', 'cheese', 'turkey', 'salad', \n",
    "     'tomatoes', 'wine', 'steak', 'carrots'],\n",
    "    ['bread', 'milk', 'tomatoes', 'cereal', 'chicken', \n",
    "     'turkey', 'chips', 'salsa', 'diapers']\n",
    "]"
   ]
  },
  {
   "cell_type": "code",
   "execution_count": null,
   "id": "ae2b4017-a238-4e60-86c0-bf1bad4aabd6",
   "metadata": {},
   "outputs": [],
   "source": []
  },
  {
   "cell_type": "markdown",
   "id": "cbe73942-7283-4d14-8c46-0f55ffd96904",
   "metadata": {
    "tags": []
   },
   "source": [
    "# Exercise 40: Computing Metrics"
   ]
  },
  {
   "cell_type": "markdown",
   "id": "39809e38-5383-4b74-a5ec-29c6e76fefe8",
   "metadata": {},
   "source": [
    "1. Define and print the frequencies that are the basis of all five metrics, which would be Frequency(Milk), Frequency(Bread), and Frequency(Milk, Bread). Also, define N as the total number of transactions in the dataset."
   ]
  },
  {
   "cell_type": "code",
   "execution_count": 4,
   "id": "3e68106a-c44a-42e6-bc59-671d471e7671",
   "metadata": {},
   "outputs": [
    {
     "name": "stdout",
     "output_type": "stream",
     "text": [
      "N = 10\n",
      "Freq(x) = 7\n",
      "Freq(y) = 5\n",
      "Freq(x, y) = 4\n"
     ]
    }
   ],
   "source": [
    "N = len(example)\n",
    "f_x = sum(['milk' in i for i in example]) # milk\n",
    "f_y = sum(['bread' in i for i in example]) # bread\n",
    "f_x_y = sum([\n",
    "    all(w in i for w in ['milk', 'bread']) \n",
    "    for i in example\n",
    "])\n",
    "\n",
    "print(\n",
    "    \"N = {}\\n\".format(N) + \n",
    "    \"Freq(x) = {}\\n\".format(f_x) + \n",
    "    \"Freq(y) = {}\\n\".format(f_y) + \n",
    "    \"Freq(x, y) = {}\".format(f_x_y)\n",
    ")"
   ]
  },
  {
   "cell_type": "code",
   "execution_count": null,
   "id": "a9246014-9b4f-4da4-8b64-48ddcb8d7d84",
   "metadata": {},
   "outputs": [],
   "source": []
  },
  {
   "cell_type": "markdown",
   "id": "2e4513f2-a70c-4683-80eb-6192943c50c3",
   "metadata": {},
   "source": [
    "2. Calculate and print Support(Milk  Bread):"
   ]
  },
  {
   "cell_type": "code",
   "execution_count": 5,
   "id": "e7610a95-6505-4ecb-9e4a-4ea00f962e4b",
   "metadata": {},
   "outputs": [
    {
     "name": "stdout",
     "output_type": "stream",
     "text": [
      "Support = 0.4\n"
     ]
    }
   ],
   "source": [
    "support = f_x_y / N\n",
    "print(\"Support = {}\".format(round(support, 4)))"
   ]
  },
  {
   "cell_type": "code",
   "execution_count": null,
   "id": "5ae7856c-b4ae-4144-95a5-3720f93ee0cf",
   "metadata": {},
   "outputs": [],
   "source": []
  },
  {
   "cell_type": "markdown",
   "id": "6a054599-cc3a-4fac-b39e-f5a7a2e0350b",
   "metadata": {},
   "source": [
    "3. Calculate and print Confidence(Milk  Bread)"
   ]
  },
  {
   "cell_type": "code",
   "execution_count": 6,
   "id": "3616b148-7298-46db-b0cf-4dd1ebadad40",
   "metadata": {},
   "outputs": [
    {
     "name": "stdout",
     "output_type": "stream",
     "text": [
      "Confidence = 0.5714\n"
     ]
    }
   ],
   "source": [
    "confidence = support / (f_x / N)\n",
    "print(\"Confidence = {}\".format(round(confidence, 4)))"
   ]
  },
  {
   "cell_type": "code",
   "execution_count": null,
   "id": "c1137612-0c64-488a-bd7d-d1aca28ad3e7",
   "metadata": {},
   "outputs": [],
   "source": []
  },
  {
   "cell_type": "markdown",
   "id": "0d80988f-19fd-41ac-8886-7033593e5819",
   "metadata": {},
   "source": [
    "4. Calculate and print Lift(Milk  Bread)"
   ]
  },
  {
   "cell_type": "code",
   "execution_count": 7,
   "id": "ed44da88-f606-41fa-a3ec-ea142dda2255",
   "metadata": {},
   "outputs": [
    {
     "name": "stdout",
     "output_type": "stream",
     "text": [
      "Lift = 1.1429\n"
     ]
    }
   ],
   "source": [
    "lift = confidence / (f_y / N)\n",
    "print(\"Lift = {}\".format(round(lift, 4)))"
   ]
  },
  {
   "cell_type": "code",
   "execution_count": null,
   "id": "51d12cc1-7701-4141-ae03-8efaf4e63def",
   "metadata": {},
   "outputs": [],
   "source": []
  },
  {
   "cell_type": "markdown",
   "id": "a11f341f-bc6b-4026-b2a8-6ccc0ff054ae",
   "metadata": {},
   "source": [
    "5. Calculate and print Leverage(Milk  Bread)"
   ]
  },
  {
   "cell_type": "code",
   "execution_count": 8,
   "id": "4c2ab134-606c-4e98-b67c-3a1aa6dee433",
   "metadata": {},
   "outputs": [
    {
     "name": "stdout",
     "output_type": "stream",
     "text": [
      "Leverage = 0.05\n"
     ]
    }
   ],
   "source": [
    "leverage = support - ((f_x / N) * (f_y / N))\n",
    "print(\"Leverage = {}\".format(round(leverage, 4)))"
   ]
  },
  {
   "cell_type": "code",
   "execution_count": null,
   "id": "d4cef311-511a-4004-a5a6-2647fc533be7",
   "metadata": {},
   "outputs": [],
   "source": []
  },
  {
   "cell_type": "markdown",
   "id": "b920d457-4c82-44dc-b8b9-944b535e1765",
   "metadata": {},
   "source": [
    "6. Calculate and print Conviction(Milk  Bread)"
   ]
  },
  {
   "cell_type": "code",
   "execution_count": 9,
   "id": "37168412-e91f-48ec-8534-b52f1a67a911",
   "metadata": {},
   "outputs": [
    {
     "name": "stdout",
     "output_type": "stream",
     "text": [
      "Conviction = 1.1667\n"
     ]
    }
   ],
   "source": [
    "conviction = (1 - (f_y / N)) / (1 - confidence)\n",
    "print(\"Conviction = {}\".format(round(conviction, 4)))"
   ]
  },
  {
   "cell_type": "code",
   "execution_count": null,
   "id": "647fadc4-a25c-4bf7-b662-1be916e045d7",
   "metadata": {},
   "outputs": [],
   "source": []
  },
  {
   "cell_type": "markdown",
   "id": "43095072-3f4c-40a7-81b8-3d577859d63f",
   "metadata": {},
   "source": [
    "# Exercise 41: Loading Data"
   ]
  },
  {
   "cell_type": "markdown",
   "id": "116b4958-af93-4f40-a7ee-1a17e9d70abc",
   "metadata": {},
   "source": [
    "1. Using the read_excel function from pandas, load the data. Note that the first row of the Excel file contains the column names"
   ]
  },
  {
   "cell_type": "code",
   "execution_count": 10,
   "id": "4e047ce7-09f9-4a2b-93aa-59559cee57ec",
   "metadata": {
    "tags": []
   },
   "outputs": [],
   "source": [
    "import pandas as pd"
   ]
  },
  {
   "cell_type": "code",
   "execution_count": 11,
   "id": "f7872d41-0614-4c6b-aa71-1570d695d09f",
   "metadata": {
    "tags": []
   },
   "outputs": [],
   "source": [
    "online = pd.read_excel('Online Retail.xlsx')"
   ]
  },
  {
   "cell_type": "code",
   "execution_count": 12,
   "id": "540743e7-18f0-4224-9d42-dbedb2a358b2",
   "metadata": {},
   "outputs": [],
   "source": [
    "# online = pandas.read_excel(\n",
    "#     io=\"Online Retail.xlsx\", \n",
    "#     sheet_name=\"Online Retail\", \n",
    "#     header=0\n",
    "# )"
   ]
  },
  {
   "cell_type": "code",
   "execution_count": null,
   "id": "041956de-727e-4137-93b8-6abf5a61e35a",
   "metadata": {},
   "outputs": [],
   "source": []
  },
  {
   "cell_type": "markdown",
   "id": "93bbe0aa-a332-407c-9213-72b7daf00f6f",
   "metadata": {},
   "source": [
    "2. Print out the first 10 rows of the DataFrame. Notice that the data contains some columns that will not be relevant to market basket analysis"
   ]
  },
  {
   "cell_type": "code",
   "execution_count": 13,
   "id": "cfdbcd24-f8da-4c26-a8a2-04598c635c0a",
   "metadata": {},
   "outputs": [
    {
     "data": {
      "text/html": [
       "<div>\n",
       "<style scoped>\n",
       "    .dataframe tbody tr th:only-of-type {\n",
       "        vertical-align: middle;\n",
       "    }\n",
       "\n",
       "    .dataframe tbody tr th {\n",
       "        vertical-align: top;\n",
       "    }\n",
       "\n",
       "    .dataframe thead th {\n",
       "        text-align: right;\n",
       "    }\n",
       "</style>\n",
       "<table border=\"1\" class=\"dataframe\">\n",
       "  <thead>\n",
       "    <tr style=\"text-align: right;\">\n",
       "      <th></th>\n",
       "      <th>InvoiceNo</th>\n",
       "      <th>StockCode</th>\n",
       "      <th>Description</th>\n",
       "      <th>Quantity</th>\n",
       "      <th>InvoiceDate</th>\n",
       "      <th>UnitPrice</th>\n",
       "      <th>CustomerID</th>\n",
       "      <th>Country</th>\n",
       "    </tr>\n",
       "  </thead>\n",
       "  <tbody>\n",
       "    <tr>\n",
       "      <th>0</th>\n",
       "      <td>536365</td>\n",
       "      <td>85123A</td>\n",
       "      <td>WHITE HANGING HEART T-LIGHT HOLDER</td>\n",
       "      <td>6</td>\n",
       "      <td>2010-12-01 08:26:00</td>\n",
       "      <td>2.55</td>\n",
       "      <td>17850.0</td>\n",
       "      <td>United Kingdom</td>\n",
       "    </tr>\n",
       "    <tr>\n",
       "      <th>1</th>\n",
       "      <td>536365</td>\n",
       "      <td>71053</td>\n",
       "      <td>WHITE METAL LANTERN</td>\n",
       "      <td>6</td>\n",
       "      <td>2010-12-01 08:26:00</td>\n",
       "      <td>3.39</td>\n",
       "      <td>17850.0</td>\n",
       "      <td>United Kingdom</td>\n",
       "    </tr>\n",
       "    <tr>\n",
       "      <th>2</th>\n",
       "      <td>536365</td>\n",
       "      <td>84406B</td>\n",
       "      <td>CREAM CUPID HEARTS COAT HANGER</td>\n",
       "      <td>8</td>\n",
       "      <td>2010-12-01 08:26:00</td>\n",
       "      <td>2.75</td>\n",
       "      <td>17850.0</td>\n",
       "      <td>United Kingdom</td>\n",
       "    </tr>\n",
       "    <tr>\n",
       "      <th>3</th>\n",
       "      <td>536365</td>\n",
       "      <td>84029G</td>\n",
       "      <td>KNITTED UNION FLAG HOT WATER BOTTLE</td>\n",
       "      <td>6</td>\n",
       "      <td>2010-12-01 08:26:00</td>\n",
       "      <td>3.39</td>\n",
       "      <td>17850.0</td>\n",
       "      <td>United Kingdom</td>\n",
       "    </tr>\n",
       "    <tr>\n",
       "      <th>4</th>\n",
       "      <td>536365</td>\n",
       "      <td>84029E</td>\n",
       "      <td>RED WOOLLY HOTTIE WHITE HEART.</td>\n",
       "      <td>6</td>\n",
       "      <td>2010-12-01 08:26:00</td>\n",
       "      <td>3.39</td>\n",
       "      <td>17850.0</td>\n",
       "      <td>United Kingdom</td>\n",
       "    </tr>\n",
       "    <tr>\n",
       "      <th>5</th>\n",
       "      <td>536365</td>\n",
       "      <td>22752</td>\n",
       "      <td>SET 7 BABUSHKA NESTING BOXES</td>\n",
       "      <td>2</td>\n",
       "      <td>2010-12-01 08:26:00</td>\n",
       "      <td>7.65</td>\n",
       "      <td>17850.0</td>\n",
       "      <td>United Kingdom</td>\n",
       "    </tr>\n",
       "    <tr>\n",
       "      <th>6</th>\n",
       "      <td>536365</td>\n",
       "      <td>21730</td>\n",
       "      <td>GLASS STAR FROSTED T-LIGHT HOLDER</td>\n",
       "      <td>6</td>\n",
       "      <td>2010-12-01 08:26:00</td>\n",
       "      <td>4.25</td>\n",
       "      <td>17850.0</td>\n",
       "      <td>United Kingdom</td>\n",
       "    </tr>\n",
       "    <tr>\n",
       "      <th>7</th>\n",
       "      <td>536366</td>\n",
       "      <td>22633</td>\n",
       "      <td>HAND WARMER UNION JACK</td>\n",
       "      <td>6</td>\n",
       "      <td>2010-12-01 08:28:00</td>\n",
       "      <td>1.85</td>\n",
       "      <td>17850.0</td>\n",
       "      <td>United Kingdom</td>\n",
       "    </tr>\n",
       "    <tr>\n",
       "      <th>8</th>\n",
       "      <td>536366</td>\n",
       "      <td>22632</td>\n",
       "      <td>HAND WARMER RED POLKA DOT</td>\n",
       "      <td>6</td>\n",
       "      <td>2010-12-01 08:28:00</td>\n",
       "      <td>1.85</td>\n",
       "      <td>17850.0</td>\n",
       "      <td>United Kingdom</td>\n",
       "    </tr>\n",
       "    <tr>\n",
       "      <th>9</th>\n",
       "      <td>536367</td>\n",
       "      <td>84879</td>\n",
       "      <td>ASSORTED COLOUR BIRD ORNAMENT</td>\n",
       "      <td>32</td>\n",
       "      <td>2010-12-01 08:34:00</td>\n",
       "      <td>1.69</td>\n",
       "      <td>13047.0</td>\n",
       "      <td>United Kingdom</td>\n",
       "    </tr>\n",
       "  </tbody>\n",
       "</table>\n",
       "</div>"
      ],
      "text/plain": [
       "  InvoiceNo StockCode                          Description  Quantity  \\\n",
       "0    536365    85123A   WHITE HANGING HEART T-LIGHT HOLDER         6   \n",
       "1    536365     71053                  WHITE METAL LANTERN         6   \n",
       "2    536365    84406B       CREAM CUPID HEARTS COAT HANGER         8   \n",
       "3    536365    84029G  KNITTED UNION FLAG HOT WATER BOTTLE         6   \n",
       "4    536365    84029E       RED WOOLLY HOTTIE WHITE HEART.         6   \n",
       "5    536365     22752         SET 7 BABUSHKA NESTING BOXES         2   \n",
       "6    536365     21730    GLASS STAR FROSTED T-LIGHT HOLDER         6   \n",
       "7    536366     22633               HAND WARMER UNION JACK         6   \n",
       "8    536366     22632            HAND WARMER RED POLKA DOT         6   \n",
       "9    536367     84879        ASSORTED COLOUR BIRD ORNAMENT        32   \n",
       "\n",
       "          InvoiceDate  UnitPrice  CustomerID         Country  \n",
       "0 2010-12-01 08:26:00       2.55     17850.0  United Kingdom  \n",
       "1 2010-12-01 08:26:00       3.39     17850.0  United Kingdom  \n",
       "2 2010-12-01 08:26:00       2.75     17850.0  United Kingdom  \n",
       "3 2010-12-01 08:26:00       3.39     17850.0  United Kingdom  \n",
       "4 2010-12-01 08:26:00       3.39     17850.0  United Kingdom  \n",
       "5 2010-12-01 08:26:00       7.65     17850.0  United Kingdom  \n",
       "6 2010-12-01 08:26:00       4.25     17850.0  United Kingdom  \n",
       "7 2010-12-01 08:28:00       1.85     17850.0  United Kingdom  \n",
       "8 2010-12-01 08:28:00       1.85     17850.0  United Kingdom  \n",
       "9 2010-12-01 08:34:00       1.69     13047.0  United Kingdom  "
      ]
     },
     "execution_count": 13,
     "metadata": {},
     "output_type": "execute_result"
    }
   ],
   "source": [
    "online.head(10)"
   ]
  },
  {
   "cell_type": "code",
   "execution_count": null,
   "id": "2afdddee-82de-45ff-8e5b-f0f57ea3e4f6",
   "metadata": {},
   "outputs": [],
   "source": []
  },
  {
   "cell_type": "markdown",
   "id": "af5a3321-6d88-462d-9fab-26f0e492e4c8",
   "metadata": {},
   "source": [
    "3. Print out the data type for each column in the DataFrame. This information will come in handy when trying to perform specific cleaning tasks"
   ]
  },
  {
   "cell_type": "code",
   "execution_count": 14,
   "id": "a5fb6dd7-78e7-41cd-b1db-7047ecdd9386",
   "metadata": {},
   "outputs": [
    {
     "data": {
      "text/plain": [
       "InvoiceNo              object\n",
       "StockCode              object\n",
       "Description            object\n",
       "Quantity                int64\n",
       "InvoiceDate    datetime64[ns]\n",
       "UnitPrice             float64\n",
       "CustomerID            float64\n",
       "Country                object\n",
       "dtype: object"
      ]
     },
     "execution_count": 14,
     "metadata": {},
     "output_type": "execute_result"
    }
   ],
   "source": [
    "online.dtypes"
   ]
  },
  {
   "cell_type": "code",
   "execution_count": null,
   "id": "9f614808-9309-41ec-b9ee-31c42737881b",
   "metadata": {},
   "outputs": [],
   "source": []
  },
  {
   "cell_type": "markdown",
   "id": "9b56b026-e80f-40eb-9b8f-87d887ebec6c",
   "metadata": {},
   "source": [
    "4. Get the dimensions of the DataFrame, as well as the number of unique invoice numbers and customer identifications"
   ]
  },
  {
   "cell_type": "code",
   "execution_count": 15,
   "id": "a93028c3-26f3-4e50-ab80-b1ddd2e6d08c",
   "metadata": {},
   "outputs": [
    {
     "name": "stdout",
     "output_type": "stream",
     "text": [
      "Data dimension (row count, col count): (541909, 8)\n",
      "Count of unique invoice numbers: 25900\n",
      "Count of unique customer ids: 4372\n"
     ]
    }
   ],
   "source": [
    "print(\n",
    "     \"Data dimension (row count, col count): {dim}\"\n",
    "     .format(dim=online.shape)\n",
    ")\n",
    "print(\n",
    "     \"Count of unique invoice numbers: {cnt}\"\n",
    "     .format(cnt=online.InvoiceNo.nunique())\n",
    ")\n",
    "print(\n",
    "     \"Count of unique customer ids: {cnt}\"\n",
    "     .format(cnt=online.CustomerID.nunique())\n",
    ")"
   ]
  },
  {
   "cell_type": "code",
   "execution_count": null,
   "id": "ae6fc6ed-4bd9-4688-ae7c-6393abca5f15",
   "metadata": {},
   "outputs": [],
   "source": []
  },
  {
   "cell_type": "markdown",
   "id": "6e635609-25c1-4e00-8462-3f74494d5bee",
   "metadata": {
    "tags": []
   },
   "source": [
    "# Exercise 42: Data Cleaning and Formatting"
   ]
  },
  {
   "cell_type": "markdown",
   "id": "7ee1ed71-a58f-48d2-bb16-66fed9940823",
   "metadata": {},
   "source": [
    "1. Create an indicator column stipulating whether the invoice number begins with \"C\":"
   ]
  },
  {
   "cell_type": "code",
   "execution_count": 16,
   "id": "7cb64d1c-af40-49ae-a94e-2725addcf344",
   "metadata": {},
   "outputs": [],
   "source": [
    "online['IsCPresent'] = (\n",
    "    online['InvoiceNo']\n",
    "    .astype(str)\n",
    "    .apply(lambda x: 1 if x.find('C') != -1 else 0)\n",
    ")"
   ]
  },
  {
   "cell_type": "code",
   "execution_count": null,
   "id": "ede60853-2df0-4a15-9434-9f9537404a5d",
   "metadata": {},
   "outputs": [],
   "source": []
  },
  {
   "cell_type": "markdown",
   "id": "b92b188f-257a-419a-8962-2622ccbe921c",
   "metadata": {},
   "source": [
    "2. Filter out all transactions having either zero or a negative number of items, remove all invoice numbers starting with \"C\" using the column created in step one, subset the DataFrame down to InvoiceNo and Description, and lastly, drop all rows with at least one missing value. Rename the DataFrame online"
   ]
  },
  {
   "cell_type": "code",
   "execution_count": 17,
   "id": "87a5bfd7-86e2-42b9-977e-b6e8dc029343",
   "metadata": {},
   "outputs": [],
   "source": [
    "online1 = (\n",
    "    online\n",
    "    # filter out non-positive quantity values\n",
    "    .loc[online[\"Quantity\"] > 0]\n",
    "    # remove InvoiceNos starting with C\n",
    "    .loc[online['IsCPresent'] != 1]\n",
    "    # column filtering\n",
    "    .loc[:, [\"InvoiceNo\", \"Description\"]]\n",
    "    # dropping all rows with at least one missing value\n",
    "    .dropna()\n",
    ")"
   ]
  },
  {
   "cell_type": "code",
   "execution_count": null,
   "id": "67095e30-f4b9-4fd0-88e6-6db667e80516",
   "metadata": {},
   "outputs": [],
   "source": []
  },
  {
   "cell_type": "markdown",
   "id": "74f70432-02d9-4be0-bcb5-0de3a4188ee0",
   "metadata": {},
   "source": [
    "3. Print out the first 10 rows of the filtered DataFrame, online1:"
   ]
  },
  {
   "cell_type": "code",
   "execution_count": 18,
   "id": "c110e034-5cf2-4ca9-8820-299d9514a5d2",
   "metadata": {},
   "outputs": [
    {
     "data": {
      "text/html": [
       "<div>\n",
       "<style scoped>\n",
       "    .dataframe tbody tr th:only-of-type {\n",
       "        vertical-align: middle;\n",
       "    }\n",
       "\n",
       "    .dataframe tbody tr th {\n",
       "        vertical-align: top;\n",
       "    }\n",
       "\n",
       "    .dataframe thead th {\n",
       "        text-align: right;\n",
       "    }\n",
       "</style>\n",
       "<table border=\"1\" class=\"dataframe\">\n",
       "  <thead>\n",
       "    <tr style=\"text-align: right;\">\n",
       "      <th></th>\n",
       "      <th>InvoiceNo</th>\n",
       "      <th>Description</th>\n",
       "    </tr>\n",
       "  </thead>\n",
       "  <tbody>\n",
       "    <tr>\n",
       "      <th>0</th>\n",
       "      <td>536365</td>\n",
       "      <td>WHITE HANGING HEART T-LIGHT HOLDER</td>\n",
       "    </tr>\n",
       "    <tr>\n",
       "      <th>1</th>\n",
       "      <td>536365</td>\n",
       "      <td>WHITE METAL LANTERN</td>\n",
       "    </tr>\n",
       "    <tr>\n",
       "      <th>2</th>\n",
       "      <td>536365</td>\n",
       "      <td>CREAM CUPID HEARTS COAT HANGER</td>\n",
       "    </tr>\n",
       "    <tr>\n",
       "      <th>3</th>\n",
       "      <td>536365</td>\n",
       "      <td>KNITTED UNION FLAG HOT WATER BOTTLE</td>\n",
       "    </tr>\n",
       "    <tr>\n",
       "      <th>4</th>\n",
       "      <td>536365</td>\n",
       "      <td>RED WOOLLY HOTTIE WHITE HEART.</td>\n",
       "    </tr>\n",
       "    <tr>\n",
       "      <th>5</th>\n",
       "      <td>536365</td>\n",
       "      <td>SET 7 BABUSHKA NESTING BOXES</td>\n",
       "    </tr>\n",
       "    <tr>\n",
       "      <th>6</th>\n",
       "      <td>536365</td>\n",
       "      <td>GLASS STAR FROSTED T-LIGHT HOLDER</td>\n",
       "    </tr>\n",
       "    <tr>\n",
       "      <th>7</th>\n",
       "      <td>536366</td>\n",
       "      <td>HAND WARMER UNION JACK</td>\n",
       "    </tr>\n",
       "    <tr>\n",
       "      <th>8</th>\n",
       "      <td>536366</td>\n",
       "      <td>HAND WARMER RED POLKA DOT</td>\n",
       "    </tr>\n",
       "    <tr>\n",
       "      <th>9</th>\n",
       "      <td>536367</td>\n",
       "      <td>ASSORTED COLOUR BIRD ORNAMENT</td>\n",
       "    </tr>\n",
       "  </tbody>\n",
       "</table>\n",
       "</div>"
      ],
      "text/plain": [
       "  InvoiceNo                          Description\n",
       "0    536365   WHITE HANGING HEART T-LIGHT HOLDER\n",
       "1    536365                  WHITE METAL LANTERN\n",
       "2    536365       CREAM CUPID HEARTS COAT HANGER\n",
       "3    536365  KNITTED UNION FLAG HOT WATER BOTTLE\n",
       "4    536365       RED WOOLLY HOTTIE WHITE HEART.\n",
       "5    536365         SET 7 BABUSHKA NESTING BOXES\n",
       "6    536365    GLASS STAR FROSTED T-LIGHT HOLDER\n",
       "7    536366               HAND WARMER UNION JACK\n",
       "8    536366            HAND WARMER RED POLKA DOT\n",
       "9    536367        ASSORTED COLOUR BIRD ORNAMENT"
      ]
     },
     "execution_count": 18,
     "metadata": {},
     "output_type": "execute_result"
    }
   ],
   "source": [
    "online1.head(10)"
   ]
  },
  {
   "cell_type": "code",
   "execution_count": null,
   "id": "0cd0d465-699d-40f2-9fcd-60f81fe7b235",
   "metadata": {},
   "outputs": [],
   "source": []
  },
  {
   "cell_type": "markdown",
   "id": "ce502c4a-3fa2-46f8-89a6-e3c96d742bd6",
   "metadata": {},
   "source": [
    "4. Print out the dimensions of the cleaned DataFrame and the number of unique invoice numbers"
   ]
  },
  {
   "cell_type": "code",
   "execution_count": 19,
   "id": "74f3a776-3918-408a-ac6e-166617f1506b",
   "metadata": {},
   "outputs": [
    {
     "name": "stdout",
     "output_type": "stream",
     "text": [
      "Data dimension (row count, col count): (530693, 2)\n",
      "Count of unique invoice numbers: 20136\n"
     ]
    }
   ],
   "source": [
    "print(\n",
    "    \"Data dimension (row count, col count): {dim}\"\n",
    "    .format(dim=online1.shape)\n",
    ")\n",
    "print(\n",
    "    \"Count of unique invoice numbers: {cnt}\"\n",
    "    .format(cnt=online1.InvoiceNo.nunique())\n",
    ")"
   ]
  },
  {
   "cell_type": "code",
   "execution_count": null,
   "id": "c69da453-6f33-419a-9a7f-bb0520405bf3",
   "metadata": {},
   "outputs": [],
   "source": []
  },
  {
   "cell_type": "markdown",
   "id": "5a43805e-4a7b-4ed5-869d-db3a304ac1a4",
   "metadata": {},
   "source": [
    "5. Extract the invoice numbers from the DataFrame as a list. Remove duplicate elements to create a list of unique invoice numbers. Confirm that the process was successful by printing the length of the list of unique invoice numbers. Compare with the output of Step 4"
   ]
  },
  {
   "cell_type": "code",
   "execution_count": 20,
   "id": "cf9c6419-6e7f-420a-832b-ed57c0becc0a",
   "metadata": {},
   "outputs": [
    {
     "name": "stdout",
     "output_type": "stream",
     "text": [
      "Length of list of invoice numbers: 20136\n"
     ]
    }
   ],
   "source": [
    "invoice_no_list = online1.InvoiceNo.tolist()\n",
    "invoice_no_list = list(set(invoice_no_list))\n",
    "print(\n",
    "    \"Length of list of invoice numbers: {ln}\"\n",
    "    .format(ln=len(invoice_no_list))\n",
    ")"
   ]
  },
  {
   "cell_type": "code",
   "execution_count": null,
   "id": "634db720-2d82-45c7-9c73-0bc0cda4f39b",
   "metadata": {},
   "outputs": [],
   "source": []
  },
  {
   "cell_type": "markdown",
   "id": "7cb67aa7-d564-4247-91c5-117d0468cd71",
   "metadata": {},
   "source": [
    "6. Take the list from step five and cut it to only include the first 5,000 elements. Print out the length of the new list to confirm that it is, in fact, the expected length of 5,000"
   ]
  },
  {
   "cell_type": "code",
   "execution_count": 21,
   "id": "c7e39a4f-a98d-4379-a121-e408f5ff7f38",
   "metadata": {},
   "outputs": [
    {
     "name": "stdout",
     "output_type": "stream",
     "text": [
      "Length of subset list of invoice numbers: 5000\n"
     ]
    }
   ],
   "source": [
    "subset_invoice_no_list = invoice_no_list[0:5000]\n",
    "print(\n",
    "    \"Length of subset list of invoice numbers: {ln}\"\n",
    "    .format(ln=len(subset_invoice_no_list))\n",
    ")"
   ]
  },
  {
   "cell_type": "code",
   "execution_count": null,
   "id": "1168749e-429d-4da4-9afb-dc954bcf5b36",
   "metadata": {},
   "outputs": [],
   "source": []
  },
  {
   "cell_type": "markdown",
   "id": "b4d0f395-f8da-4820-8d82-838d2de18593",
   "metadata": {},
   "source": [
    "7. Filter the online1 DataFrame down by only keeping the invoice numbers in the list from the previous step"
   ]
  },
  {
   "cell_type": "code",
   "execution_count": 22,
   "id": "6293706f-7875-44bb-834d-f87ab5508646",
   "metadata": {},
   "outputs": [],
   "source": [
    "online1 = online1.loc[online1[\"InvoiceNo\"].isin(subset_invoice_no_list)]"
   ]
  },
  {
   "cell_type": "code",
   "execution_count": null,
   "id": "ef054e65-b0ff-4459-b827-651801e7e937",
   "metadata": {},
   "outputs": [],
   "source": []
  },
  {
   "cell_type": "markdown",
   "id": "0f37e6d0-b736-48e8-a7bf-beaa8205d786",
   "metadata": {},
   "source": [
    "8. Print out the first 10 rows of online1"
   ]
  },
  {
   "cell_type": "code",
   "execution_count": 23,
   "id": "2c8bdacf-7f07-4490-8fb3-85fd98fcbf15",
   "metadata": {},
   "outputs": [
    {
     "data": {
      "text/html": [
       "<div>\n",
       "<style scoped>\n",
       "    .dataframe tbody tr th:only-of-type {\n",
       "        vertical-align: middle;\n",
       "    }\n",
       "\n",
       "    .dataframe tbody tr th {\n",
       "        vertical-align: top;\n",
       "    }\n",
       "\n",
       "    .dataframe thead th {\n",
       "        text-align: right;\n",
       "    }\n",
       "</style>\n",
       "<table border=\"1\" class=\"dataframe\">\n",
       "  <thead>\n",
       "    <tr style=\"text-align: right;\">\n",
       "      <th></th>\n",
       "      <th>InvoiceNo</th>\n",
       "      <th>Description</th>\n",
       "    </tr>\n",
       "  </thead>\n",
       "  <tbody>\n",
       "    <tr>\n",
       "      <th>0</th>\n",
       "      <td>536365</td>\n",
       "      <td>WHITE HANGING HEART T-LIGHT HOLDER</td>\n",
       "    </tr>\n",
       "    <tr>\n",
       "      <th>1</th>\n",
       "      <td>536365</td>\n",
       "      <td>WHITE METAL LANTERN</td>\n",
       "    </tr>\n",
       "    <tr>\n",
       "      <th>2</th>\n",
       "      <td>536365</td>\n",
       "      <td>CREAM CUPID HEARTS COAT HANGER</td>\n",
       "    </tr>\n",
       "    <tr>\n",
       "      <th>3</th>\n",
       "      <td>536365</td>\n",
       "      <td>KNITTED UNION FLAG HOT WATER BOTTLE</td>\n",
       "    </tr>\n",
       "    <tr>\n",
       "      <th>4</th>\n",
       "      <td>536365</td>\n",
       "      <td>RED WOOLLY HOTTIE WHITE HEART.</td>\n",
       "    </tr>\n",
       "    <tr>\n",
       "      <th>5</th>\n",
       "      <td>536365</td>\n",
       "      <td>SET 7 BABUSHKA NESTING BOXES</td>\n",
       "    </tr>\n",
       "    <tr>\n",
       "      <th>6</th>\n",
       "      <td>536365</td>\n",
       "      <td>GLASS STAR FROSTED T-LIGHT HOLDER</td>\n",
       "    </tr>\n",
       "    <tr>\n",
       "      <th>7</th>\n",
       "      <td>536366</td>\n",
       "      <td>HAND WARMER UNION JACK</td>\n",
       "    </tr>\n",
       "    <tr>\n",
       "      <th>8</th>\n",
       "      <td>536366</td>\n",
       "      <td>HAND WARMER RED POLKA DOT</td>\n",
       "    </tr>\n",
       "    <tr>\n",
       "      <th>9</th>\n",
       "      <td>536367</td>\n",
       "      <td>ASSORTED COLOUR BIRD ORNAMENT</td>\n",
       "    </tr>\n",
       "  </tbody>\n",
       "</table>\n",
       "</div>"
      ],
      "text/plain": [
       "  InvoiceNo                          Description\n",
       "0    536365   WHITE HANGING HEART T-LIGHT HOLDER\n",
       "1    536365                  WHITE METAL LANTERN\n",
       "2    536365       CREAM CUPID HEARTS COAT HANGER\n",
       "3    536365  KNITTED UNION FLAG HOT WATER BOTTLE\n",
       "4    536365       RED WOOLLY HOTTIE WHITE HEART.\n",
       "5    536365         SET 7 BABUSHKA NESTING BOXES\n",
       "6    536365    GLASS STAR FROSTED T-LIGHT HOLDER\n",
       "7    536366               HAND WARMER UNION JACK\n",
       "8    536366            HAND WARMER RED POLKA DOT\n",
       "9    536367        ASSORTED COLOUR BIRD ORNAMENT"
      ]
     },
     "execution_count": 23,
     "metadata": {},
     "output_type": "execute_result"
    }
   ],
   "source": [
    "online1.head(10)"
   ]
  },
  {
   "cell_type": "code",
   "execution_count": null,
   "id": "0e35d893-bd19-4da3-901b-c949539a37fd",
   "metadata": {},
   "outputs": [],
   "source": []
  },
  {
   "cell_type": "markdown",
   "id": "0d425ed5-a8db-4c76-8e09-ca7e12146e47",
   "metadata": {},
   "source": [
    "9. Print out the dimensions of the DataFrame and the number of unique invoice numbers to confirm that the filtering and cleaning process was successful"
   ]
  },
  {
   "cell_type": "code",
   "execution_count": 24,
   "id": "2ccd8bd6-51b2-4e28-b2c9-3c5a0da367bb",
   "metadata": {},
   "outputs": [
    {
     "name": "stdout",
     "output_type": "stream",
     "text": [
      "Data dimension (row count, col count): (133315, 2)\n",
      "Count of unique invoice numbers: 5000\n"
     ]
    }
   ],
   "source": [
    "print(\n",
    "    \"Data dimension (row count, col count): {dim}\"\n",
    "    .format(dim=online1.shape)\n",
    ")\n",
    "print(\n",
    "    \"Count of unique invoice numbers: {cnt}\"\n",
    "    .format(cnt=online1.InvoiceNo.nunique())\n",
    ")"
   ]
  },
  {
   "cell_type": "code",
   "execution_count": null,
   "id": "c3bef0d0-6c84-46c5-9645-f14762273248",
   "metadata": {},
   "outputs": [],
   "source": []
  },
  {
   "cell_type": "markdown",
   "id": "23db2e34-8b03-4251-9392-ef491a4ee9de",
   "metadata": {},
   "source": [
    "10. Transform the data in online1 into the aforementioned list of lists called invoice_item_list. The process for doing this is to iterate over the unique invoice numbers and, at each iteration, extract the item descriptions as a list and append that list to the larger invoice_item_list list. Print out elements one through four of the list"
   ]
  },
  {
   "cell_type": "code",
   "execution_count": 25,
   "id": "d24e4556-763a-4bea-8699-6069fe90dcef",
   "metadata": {},
   "outputs": [
    {
     "name": "stdout",
     "output_type": "stream",
     "text": [
      "[['HAND WARMER UNION JACK', 'HAND WARMER RED POLKA DOT'], ['ASSORTED COLOUR BIRD ORNAMENT', \"POPPY'S PLAYHOUSE BEDROOM \", \"POPPY'S PLAYHOUSE KITCHEN\", 'FELTCRAFT PRINCESS CHARLOTTE DOLL', 'IVORY KNITTED MUG COSY ', 'BOX OF 6 ASSORTED COLOUR TEASPOONS', 'BOX OF VINTAGE JIGSAW BLOCKS ', 'BOX OF VINTAGE ALPHABET BLOCKS', 'HOME BUILDING BLOCK WORD', 'LOVE BUILDING BLOCK WORD', 'RECIPE BOX WITH METAL HEART', 'DOORMAT NEW ENGLAND'], ['JAM MAKING SET WITH JARS', 'RED COAT RACK PARIS FASHION', 'YELLOW COAT RACK PARIS FASHION', 'BLUE COAT RACK PARIS FASHION'], ['BATH BUILDING BLOCK WORD']]\n"
     ]
    }
   ],
   "source": [
    "invoice_item_list = []\n",
    "for num in list(set(online1.InvoiceNo.tolist())):\n",
    "    # filter dataset down to one invoice number\n",
    "    tmp_df = online1.loc[online1['InvoiceNo'] == num]\n",
    "    # extract item descriptions and convert to list\n",
    "    tmp_items = tmp_df.Description.tolist()\n",
    "    # append list invoice_item_list\n",
    "    invoice_item_list.append(tmp_items)\n",
    "    \n",
    "print(invoice_item_list[1:5])"
   ]
  },
  {
   "cell_type": "code",
   "execution_count": null,
   "id": "81015f18-4535-4b1a-8915-83d76a27ca4f",
   "metadata": {},
   "outputs": [],
   "source": []
  },
  {
   "cell_type": "markdown",
   "id": "c04e5866-8884-44a5-83cc-f6fb2aef5f27",
   "metadata": {},
   "source": [
    "# Exercise 43: Data Encoding"
   ]
  },
  {
   "cell_type": "markdown",
   "id": "af6884a1-3722-47a4-9308-8e0328ed21a0",
   "metadata": {},
   "source": [
    "1. Initialize and fit the transaction encoder. Print out an example of the resulting data"
   ]
  },
  {
   "cell_type": "code",
   "execution_count": 26,
   "id": "0a790a7d-90a9-4c58-b3bb-39568395711a",
   "metadata": {},
   "outputs": [
    {
     "name": "stdout",
     "output_type": "stream",
     "text": [
      "[[False False False ... False False False]\n",
      " [False False False ... False False False]\n",
      " [False False False ... False False False]\n",
      " ...\n",
      " [False False False ... False False False]\n",
      " [False False False ... False False False]\n",
      " [False False False ... False False False]]\n"
     ]
    }
   ],
   "source": [
    "online_encoder = mlxtend.preprocessing.TransactionEncoder()\n",
    "online_encoder_array = online_encoder.fit_transform(invoice_item_list)\n",
    "print(online_encoder_array)"
   ]
  },
  {
   "cell_type": "code",
   "execution_count": null,
   "id": "aa9fa492-61ac-43bb-b5c0-73469f92ff60",
   "metadata": {},
   "outputs": [],
   "source": []
  },
  {
   "cell_type": "markdown",
   "id": "df9ebf02-37a2-4cbb-bfb1-ffead676c08b",
   "metadata": {},
   "source": [
    "2. Recast the encoded array as a DataFrame named online_encoder_df. Print out a predefined subset of the DataFrame that features both true and false values:"
   ]
  },
  {
   "cell_type": "code",
   "execution_count": 27,
   "id": "6ad8645b-fe89-4ee4-96f9-323e93b841cb",
   "metadata": {},
   "outputs": [
    {
     "data": {
      "text/html": [
       "<div>\n",
       "<style scoped>\n",
       "    .dataframe tbody tr th:only-of-type {\n",
       "        vertical-align: middle;\n",
       "    }\n",
       "\n",
       "    .dataframe tbody tr th {\n",
       "        vertical-align: top;\n",
       "    }\n",
       "\n",
       "    .dataframe thead th {\n",
       "        text-align: right;\n",
       "    }\n",
       "</style>\n",
       "<table border=\"1\" class=\"dataframe\">\n",
       "  <thead>\n",
       "    <tr style=\"text-align: right;\">\n",
       "      <th></th>\n",
       "      <th>4 PURPLE FLOCK DINNER CANDLES</th>\n",
       "      <th>OVAL WALL MIRROR DIAMANTE</th>\n",
       "      <th>SET 2 TEA TOWELS I LOVE LONDON</th>\n",
       "      <th>SPACEBOY BABY GIFT SET</th>\n",
       "      <th>*Boombox Ipod Classic</th>\n",
       "      <th>*USB Office Mirror Ball</th>\n",
       "      <th>10 COLOUR SPACEBOY PEN</th>\n",
       "      <th>12 COLOURED PARTY BALLOONS</th>\n",
       "    </tr>\n",
       "  </thead>\n",
       "  <tbody>\n",
       "    <tr>\n",
       "      <th>4970</th>\n",
       "      <td>False</td>\n",
       "      <td>False</td>\n",
       "      <td>False</td>\n",
       "      <td>False</td>\n",
       "      <td>False</td>\n",
       "      <td>False</td>\n",
       "      <td>False</td>\n",
       "      <td>False</td>\n",
       "    </tr>\n",
       "    <tr>\n",
       "      <th>4971</th>\n",
       "      <td>False</td>\n",
       "      <td>False</td>\n",
       "      <td>False</td>\n",
       "      <td>False</td>\n",
       "      <td>False</td>\n",
       "      <td>False</td>\n",
       "      <td>False</td>\n",
       "      <td>False</td>\n",
       "    </tr>\n",
       "    <tr>\n",
       "      <th>4972</th>\n",
       "      <td>False</td>\n",
       "      <td>False</td>\n",
       "      <td>False</td>\n",
       "      <td>False</td>\n",
       "      <td>False</td>\n",
       "      <td>False</td>\n",
       "      <td>False</td>\n",
       "      <td>False</td>\n",
       "    </tr>\n",
       "    <tr>\n",
       "      <th>4973</th>\n",
       "      <td>False</td>\n",
       "      <td>False</td>\n",
       "      <td>True</td>\n",
       "      <td>False</td>\n",
       "      <td>False</td>\n",
       "      <td>False</td>\n",
       "      <td>False</td>\n",
       "      <td>False</td>\n",
       "    </tr>\n",
       "    <tr>\n",
       "      <th>4974</th>\n",
       "      <td>False</td>\n",
       "      <td>False</td>\n",
       "      <td>False</td>\n",
       "      <td>False</td>\n",
       "      <td>False</td>\n",
       "      <td>False</td>\n",
       "      <td>False</td>\n",
       "      <td>False</td>\n",
       "    </tr>\n",
       "    <tr>\n",
       "      <th>4975</th>\n",
       "      <td>False</td>\n",
       "      <td>False</td>\n",
       "      <td>False</td>\n",
       "      <td>False</td>\n",
       "      <td>False</td>\n",
       "      <td>False</td>\n",
       "      <td>False</td>\n",
       "      <td>False</td>\n",
       "    </tr>\n",
       "    <tr>\n",
       "      <th>4976</th>\n",
       "      <td>False</td>\n",
       "      <td>False</td>\n",
       "      <td>False</td>\n",
       "      <td>False</td>\n",
       "      <td>False</td>\n",
       "      <td>False</td>\n",
       "      <td>False</td>\n",
       "      <td>False</td>\n",
       "    </tr>\n",
       "    <tr>\n",
       "      <th>4977</th>\n",
       "      <td>False</td>\n",
       "      <td>False</td>\n",
       "      <td>False</td>\n",
       "      <td>False</td>\n",
       "      <td>False</td>\n",
       "      <td>False</td>\n",
       "      <td>False</td>\n",
       "      <td>False</td>\n",
       "    </tr>\n",
       "    <tr>\n",
       "      <th>4978</th>\n",
       "      <td>False</td>\n",
       "      <td>False</td>\n",
       "      <td>False</td>\n",
       "      <td>False</td>\n",
       "      <td>False</td>\n",
       "      <td>False</td>\n",
       "      <td>False</td>\n",
       "      <td>False</td>\n",
       "    </tr>\n",
       "    <tr>\n",
       "      <th>4979</th>\n",
       "      <td>False</td>\n",
       "      <td>False</td>\n",
       "      <td>False</td>\n",
       "      <td>False</td>\n",
       "      <td>False</td>\n",
       "      <td>False</td>\n",
       "      <td>False</td>\n",
       "      <td>False</td>\n",
       "    </tr>\n",
       "  </tbody>\n",
       "</table>\n",
       "</div>"
      ],
      "text/plain": [
       "       4 PURPLE FLOCK DINNER CANDLES   OVAL WALL MIRROR DIAMANTE   \\\n",
       "4970                           False                        False   \n",
       "4971                           False                        False   \n",
       "4972                           False                        False   \n",
       "4973                           False                        False   \n",
       "4974                           False                        False   \n",
       "4975                           False                        False   \n",
       "4976                           False                        False   \n",
       "4977                           False                        False   \n",
       "4978                           False                        False   \n",
       "4979                           False                        False   \n",
       "\n",
       "       SET 2 TEA TOWELS I LOVE LONDON    SPACEBOY BABY GIFT SET  \\\n",
       "4970                             False                    False   \n",
       "4971                             False                    False   \n",
       "4972                             False                    False   \n",
       "4973                              True                    False   \n",
       "4974                             False                    False   \n",
       "4975                             False                    False   \n",
       "4976                             False                    False   \n",
       "4977                             False                    False   \n",
       "4978                             False                    False   \n",
       "4979                             False                    False   \n",
       "\n",
       "      *Boombox Ipod Classic  *USB Office Mirror Ball  10 COLOUR SPACEBOY PEN  \\\n",
       "4970                  False                    False                   False   \n",
       "4971                  False                    False                   False   \n",
       "4972                  False                    False                   False   \n",
       "4973                  False                    False                   False   \n",
       "4974                  False                    False                   False   \n",
       "4975                  False                    False                   False   \n",
       "4976                  False                    False                   False   \n",
       "4977                  False                    False                   False   \n",
       "4978                  False                    False                   False   \n",
       "4979                  False                    False                   False   \n",
       "\n",
       "      12 COLOURED PARTY BALLOONS  \n",
       "4970                       False  \n",
       "4971                       False  \n",
       "4972                       False  \n",
       "4973                       False  \n",
       "4974                       False  \n",
       "4975                       False  \n",
       "4976                       False  \n",
       "4977                       False  \n",
       "4978                       False  \n",
       "4979                       False  "
      ]
     },
     "execution_count": 27,
     "metadata": {},
     "output_type": "execute_result"
    }
   ],
   "source": [
    "online_encoder_df = pandas.DataFrame(\n",
    "    online_encoder_array, \n",
    "    columns=online_encoder.columns_\n",
    ")\n",
    "\n",
    "# this is a very big table, so for more \n",
    "# easy viewing only a subset is printed\n",
    "online_encoder_df.loc[\n",
    "    4970:4979, \n",
    "    online_encoder_df.columns.tolist()[0:8]\n",
    "]"
   ]
  },
  {
   "cell_type": "code",
   "execution_count": null,
   "id": "0e7d202f-62bd-45b9-847b-0e41eee5518c",
   "metadata": {},
   "outputs": [],
   "source": []
  },
  {
   "cell_type": "markdown",
   "id": "bea05fe3-640b-4b47-b6e5-7e2f4c2cde96",
   "metadata": {},
   "source": [
    "3. Print out the dimensions of the encoded DataFrame. It should have 5,000 rows because the data used to generate it was previously filtered down to 5,000 unique invoice numbers"
   ]
  },
  {
   "cell_type": "code",
   "execution_count": 28,
   "id": "fad6f7f9-97c6-439f-98a5-176c314f4563",
   "metadata": {},
   "outputs": [
    {
     "name": "stdout",
     "output_type": "stream",
     "text": [
      "Data dimension (row count, col count): (5000, 3135)\n"
     ]
    }
   ],
   "source": [
    "print(\n",
    "    \"Data dimension (row count, col count): {dim}\"\n",
    "    .format(dim=online_encoder_df.shape)\n",
    ")"
   ]
  },
  {
   "cell_type": "code",
   "execution_count": null,
   "id": "1f38f911-855c-4207-8467-b77301da93f2",
   "metadata": {},
   "outputs": [],
   "source": []
  },
  {
   "cell_type": "markdown",
   "id": "325c9935-1815-4e29-8cad-6f4985e849ee",
   "metadata": {},
   "source": [
    "# Activity 18: Loading and Preparing Full Online Retail Data"
   ]
  },
  {
   "cell_type": "markdown",
   "id": "e3944e3b-87e3-4ccc-849b-f83e28f0b00f",
   "metadata": {},
   "source": [
    "1. Load the online retail dataset file"
   ]
  },
  {
   "cell_type": "code",
   "execution_count": 29,
   "id": "33d83cd8-6211-4e31-81e6-6e9c58cc17ea",
   "metadata": {},
   "outputs": [],
   "source": [
    "#Activity01\n",
    "import matplotlib.pyplot as plt\n",
    "import mlxtend.frequent_patterns\n",
    "import mlxtend.preprocessing\n",
    "import numpy\n",
    "import pandas\n",
    "\n",
    "online = pandas.read_excel(\n",
    "    io=\"Online Retail.xlsx\", \n",
    "    sheet_name=\"Online Retail\", \n",
    "    header=0\n",
    ")"
   ]
  },
  {
   "cell_type": "code",
   "execution_count": null,
   "id": "b2cb63d7-9ad6-4d57-804f-616269e0406b",
   "metadata": {},
   "outputs": [],
   "source": []
  },
  {
   "cell_type": "markdown",
   "id": "22ad6a24-3429-4279-aa0f-99282dbd3bc0",
   "metadata": {},
   "source": [
    "2. Clean and prep the data for modeling, including turning the cleaned data into a list of lists"
   ]
  },
  {
   "cell_type": "code",
   "execution_count": 30,
   "id": "276b178f-ac6f-41d6-9c13-58cc20689f7c",
   "metadata": {},
   "outputs": [
    {
     "ename": "KeyboardInterrupt",
     "evalue": "",
     "output_type": "error",
     "traceback": [
      "\u001b[1;31m---------------------------------------------------------------------------\u001b[0m",
      "\u001b[1;31mKeyboardInterrupt\u001b[0m                         Traceback (most recent call last)",
      "Cell \u001b[1;32mIn[30], line 17\u001b[0m\n\u001b[0;32m     15\u001b[0m invoice_item_list \u001b[38;5;241m=\u001b[39m []\n\u001b[0;32m     16\u001b[0m \u001b[38;5;28;01mfor\u001b[39;00m num \u001b[38;5;129;01min\u001b[39;00m \u001b[38;5;28mlist\u001b[39m(\u001b[38;5;28mset\u001b[39m(online1\u001b[38;5;241m.\u001b[39mInvoiceNo\u001b[38;5;241m.\u001b[39mtolist())):\n\u001b[1;32m---> 17\u001b[0m     tmp_df \u001b[38;5;241m=\u001b[39m online1\u001b[38;5;241m.\u001b[39mloc[online1[\u001b[38;5;124m'\u001b[39m\u001b[38;5;124mInvoiceNo\u001b[39m\u001b[38;5;124m'\u001b[39m] \u001b[38;5;241m==\u001b[39m num]\n\u001b[0;32m     18\u001b[0m     tmp_items \u001b[38;5;241m=\u001b[39m tmp_df\u001b[38;5;241m.\u001b[39mDescription\u001b[38;5;241m.\u001b[39mtolist()\n\u001b[0;32m     19\u001b[0m     invoice_item_list\u001b[38;5;241m.\u001b[39mappend(tmp_items)\n",
      "File \u001b[1;32m~\\AppData\\Roaming\\Python\\Python311\\site-packages\\pandas\\core\\ops\\common.py:76\u001b[0m, in \u001b[0;36m_unpack_zerodim_and_defer.<locals>.new_method\u001b[1;34m(self, other)\u001b[0m\n\u001b[0;32m     72\u001b[0m             \u001b[38;5;28;01mreturn\u001b[39;00m \u001b[38;5;28mNotImplemented\u001b[39m\n\u001b[0;32m     74\u001b[0m other \u001b[38;5;241m=\u001b[39m item_from_zerodim(other)\n\u001b[1;32m---> 76\u001b[0m \u001b[38;5;28;01mreturn\u001b[39;00m method(\u001b[38;5;28mself\u001b[39m, other)\n",
      "File \u001b[1;32m~\\AppData\\Roaming\\Python\\Python311\\site-packages\\pandas\\core\\arraylike.py:40\u001b[0m, in \u001b[0;36mOpsMixin.__eq__\u001b[1;34m(self, other)\u001b[0m\n\u001b[0;32m     38\u001b[0m \u001b[38;5;129m@unpack_zerodim_and_defer\u001b[39m(\u001b[38;5;124m\"\u001b[39m\u001b[38;5;124m__eq__\u001b[39m\u001b[38;5;124m\"\u001b[39m)\n\u001b[0;32m     39\u001b[0m \u001b[38;5;28;01mdef\u001b[39;00m \u001b[38;5;21m__eq__\u001b[39m(\u001b[38;5;28mself\u001b[39m, other):\n\u001b[1;32m---> 40\u001b[0m     \u001b[38;5;28;01mreturn\u001b[39;00m \u001b[38;5;28mself\u001b[39m\u001b[38;5;241m.\u001b[39m_cmp_method(other, operator\u001b[38;5;241m.\u001b[39meq)\n",
      "File \u001b[1;32m~\\AppData\\Roaming\\Python\\Python311\\site-packages\\pandas\\core\\series.py:5804\u001b[0m, in \u001b[0;36mSeries._cmp_method\u001b[1;34m(self, other, op)\u001b[0m\n\u001b[0;32m   5801\u001b[0m lvalues \u001b[38;5;241m=\u001b[39m \u001b[38;5;28mself\u001b[39m\u001b[38;5;241m.\u001b[39m_values\n\u001b[0;32m   5802\u001b[0m rvalues \u001b[38;5;241m=\u001b[39m extract_array(other, extract_numpy\u001b[38;5;241m=\u001b[39m\u001b[38;5;28;01mTrue\u001b[39;00m, extract_range\u001b[38;5;241m=\u001b[39m\u001b[38;5;28;01mTrue\u001b[39;00m)\n\u001b[1;32m-> 5804\u001b[0m res_values \u001b[38;5;241m=\u001b[39m ops\u001b[38;5;241m.\u001b[39mcomparison_op(lvalues, rvalues, op)\n\u001b[0;32m   5806\u001b[0m \u001b[38;5;28;01mreturn\u001b[39;00m \u001b[38;5;28mself\u001b[39m\u001b[38;5;241m.\u001b[39m_construct_result(res_values, name\u001b[38;5;241m=\u001b[39mres_name)\n",
      "File \u001b[1;32m~\\AppData\\Roaming\\Python\\Python311\\site-packages\\pandas\\core\\ops\\array_ops.py:346\u001b[0m, in \u001b[0;36mcomparison_op\u001b[1;34m(left, right, op)\u001b[0m\n\u001b[0;32m    343\u001b[0m     \u001b[38;5;28;01mreturn\u001b[39;00m invalid_comparison(lvalues, rvalues, op)\n\u001b[0;32m    345\u001b[0m \u001b[38;5;28;01melif\u001b[39;00m lvalues\u001b[38;5;241m.\u001b[39mdtype \u001b[38;5;241m==\u001b[39m \u001b[38;5;28mobject\u001b[39m \u001b[38;5;129;01mor\u001b[39;00m \u001b[38;5;28misinstance\u001b[39m(rvalues, \u001b[38;5;28mstr\u001b[39m):\n\u001b[1;32m--> 346\u001b[0m     res_values \u001b[38;5;241m=\u001b[39m comp_method_OBJECT_ARRAY(op, lvalues, rvalues)\n\u001b[0;32m    348\u001b[0m \u001b[38;5;28;01melse\u001b[39;00m:\n\u001b[0;32m    349\u001b[0m     res_values \u001b[38;5;241m=\u001b[39m _na_arithmetic_op(lvalues, rvalues, op, is_cmp\u001b[38;5;241m=\u001b[39m\u001b[38;5;28;01mTrue\u001b[39;00m)\n",
      "File \u001b[1;32m~\\AppData\\Roaming\\Python\\Python311\\site-packages\\pandas\\core\\ops\\array_ops.py:132\u001b[0m, in \u001b[0;36mcomp_method_OBJECT_ARRAY\u001b[1;34m(op, x, y)\u001b[0m\n\u001b[0;32m    130\u001b[0m \u001b[38;5;28;01melse\u001b[39;00m:\n\u001b[0;32m    131\u001b[0m     result \u001b[38;5;241m=\u001b[39m libops\u001b[38;5;241m.\u001b[39mscalar_compare(x\u001b[38;5;241m.\u001b[39mravel(), y, op)\n\u001b[1;32m--> 132\u001b[0m \u001b[38;5;28;01mreturn\u001b[39;00m result\u001b[38;5;241m.\u001b[39mreshape(x\u001b[38;5;241m.\u001b[39mshape)\n",
      "\u001b[1;31mKeyboardInterrupt\u001b[0m: "
     ]
    }
   ],
   "source": [
    "# takes too long\n",
    "\n",
    "online['IsCPresent'] = (\n",
    "    online['InvoiceNo']\n",
    "    .astype(str)\n",
    "    .apply(lambda x: 1 if x.find('C') != -1 else 0)\n",
    ")\n",
    "\n",
    "online1 = (\n",
    "    online\n",
    "    .loc[online[\"Quantity\"] > 0]\n",
    "    .loc[online['IsCPresent'] != 1]\n",
    "    .loc[:, [\"InvoiceNo\", \"Description\"]]\n",
    "    .dropna()\n",
    ")\n",
    "\n",
    "invoice_item_list = []\n",
    "for num in list(set(online1.InvoiceNo.tolist())):\n",
    "    tmp_df = online1.loc[online1['InvoiceNo'] == num]\n",
    "    tmp_items = tmp_df.Description.tolist()\n",
    "    invoice_item_list.append(tmp_items)"
   ]
  },
  {
   "cell_type": "code",
   "execution_count": null,
   "id": "864c0d15-0da8-4c1b-a51f-adf67bfd7eb3",
   "metadata": {},
   "outputs": [],
   "source": []
  },
  {
   "cell_type": "markdown",
   "id": "15e28951-788d-44f4-8c38-fcf445f75144",
   "metadata": {},
   "source": [
    "3. Encode the data and recast it as a DataFrame"
   ]
  },
  {
   "cell_type": "code",
   "execution_count": null,
   "id": "d9765cbf-5aaf-45fe-9541-b270288c6cfe",
   "metadata": {},
   "outputs": [],
   "source": [
    "online_encoder = mlxtend.preprocessing.TransactionEncoder()\n",
    "online_encoder_array = online_encoder.fit_transform(invoice_item_list)\n",
    "\n",
    "online_encoder_df = pandas.DataFrame(\n",
    "    online_encoder_array, \n",
    "    columns=online_encoder.columns_\n",
    ")\n",
    "\n",
    "online_encoder_df.loc[\n",
    "    20125:20135, \n",
    "    online_encoder_df.columns.tolist()[100:110]\n",
    "]"
   ]
  },
  {
   "cell_type": "code",
   "execution_count": null,
   "id": "892b9cbb-c712-4f7b-861a-d25bb33aaf8c",
   "metadata": {},
   "outputs": [],
   "source": []
  },
  {
   "cell_type": "markdown",
   "id": "b1b1b58f-7ab4-4ac1-9349-d768a57c50f0",
   "metadata": {
    "tags": []
   },
   "source": [
    "# Exercise 44: Executing the Apriori algorithm"
   ]
  },
  {
   "cell_type": "markdown",
   "id": "634cfeb6-afdc-4e41-adf8-6a7b9efff30f",
   "metadata": {},
   "source": [
    "1. Run the Apriori algorithm using mlxtend without changing any of the default parameter values"
   ]
  },
  {
   "cell_type": "code",
   "execution_count": 31,
   "id": "0f8243f2-76ec-431e-a02f-e60b740117dc",
   "metadata": {
    "tags": []
   },
   "outputs": [
    {
     "data": {
      "text/html": [
       "<div>\n",
       "<style scoped>\n",
       "    .dataframe tbody tr th:only-of-type {\n",
       "        vertical-align: middle;\n",
       "    }\n",
       "\n",
       "    .dataframe tbody tr th {\n",
       "        vertical-align: top;\n",
       "    }\n",
       "\n",
       "    .dataframe thead th {\n",
       "        text-align: right;\n",
       "    }\n",
       "</style>\n",
       "<table border=\"1\" class=\"dataframe\">\n",
       "  <thead>\n",
       "    <tr style=\"text-align: right;\">\n",
       "      <th></th>\n",
       "      <th>support</th>\n",
       "      <th>itemsets</th>\n",
       "    </tr>\n",
       "  </thead>\n",
       "  <tbody>\n",
       "  </tbody>\n",
       "</table>\n",
       "</div>"
      ],
      "text/plain": [
       "Empty DataFrame\n",
       "Columns: [support, itemsets]\n",
       "Index: []"
      ]
     },
     "execution_count": 31,
     "metadata": {},
     "output_type": "execute_result"
    }
   ],
   "source": [
    "mod = mlxtend.frequent_patterns.apriori(online_encoder_df)\n",
    "mod"
   ]
  },
  {
   "cell_type": "code",
   "execution_count": null,
   "id": "b5161d3f-e386-4921-96cf-79349eab5412",
   "metadata": {},
   "outputs": [],
   "source": []
  },
  {
   "cell_type": "markdown",
   "id": "e1fdee6c-03f3-4f68-b4e6-d94bf074bdd1",
   "metadata": {},
   "source": [
    "2. Rerun the Apriori algorithm, but with the minimum support set to 0.01. This minimum support value is the same as saying that when analyzing 5,000 transactions, we need an item set to appear 50 times to be considered frequent. As mentioned previously, the minimum support can be set to any value in the range [0,1]. There is no best minimum support value; the setting of this value is entirely subjective. Many businesses have their own specific thresholds for significance, but there is no industry standard or method for optimizing this value"
   ]
  },
  {
   "cell_type": "code",
   "execution_count": 32,
   "id": "74410303-9029-4a02-a409-957de51c69fa",
   "metadata": {},
   "outputs": [
    {
     "data": {
      "text/html": [
       "<div>\n",
       "<style scoped>\n",
       "    .dataframe tbody tr th:only-of-type {\n",
       "        vertical-align: middle;\n",
       "    }\n",
       "\n",
       "    .dataframe tbody tr th {\n",
       "        vertical-align: top;\n",
       "    }\n",
       "\n",
       "    .dataframe thead th {\n",
       "        text-align: right;\n",
       "    }\n",
       "</style>\n",
       "<table border=\"1\" class=\"dataframe\">\n",
       "  <thead>\n",
       "    <tr style=\"text-align: right;\">\n",
       "      <th></th>\n",
       "      <th>support</th>\n",
       "      <th>itemsets</th>\n",
       "    </tr>\n",
       "  </thead>\n",
       "  <tbody>\n",
       "    <tr>\n",
       "      <th>0</th>\n",
       "      <td>0.0110</td>\n",
       "      <td>(1)</td>\n",
       "    </tr>\n",
       "    <tr>\n",
       "      <th>1</th>\n",
       "      <td>0.0340</td>\n",
       "      <td>(2)</td>\n",
       "    </tr>\n",
       "    <tr>\n",
       "      <th>2</th>\n",
       "      <td>0.0178</td>\n",
       "      <td>(6)</td>\n",
       "    </tr>\n",
       "    <tr>\n",
       "      <th>3</th>\n",
       "      <td>0.0126</td>\n",
       "      <td>(10)</td>\n",
       "    </tr>\n",
       "    <tr>\n",
       "      <th>4</th>\n",
       "      <td>0.0132</td>\n",
       "      <td>(11)</td>\n",
       "    </tr>\n",
       "    <tr>\n",
       "      <th>5</th>\n",
       "      <td>0.0178</td>\n",
       "      <td>(12)</td>\n",
       "    </tr>\n",
       "    <tr>\n",
       "      <th>6</th>\n",
       "      <td>0.0276</td>\n",
       "      <td>(13)</td>\n",
       "    </tr>\n",
       "  </tbody>\n",
       "</table>\n",
       "</div>"
      ],
      "text/plain": [
       "   support itemsets\n",
       "0   0.0110      (1)\n",
       "1   0.0340      (2)\n",
       "2   0.0178      (6)\n",
       "3   0.0126     (10)\n",
       "4   0.0132     (11)\n",
       "5   0.0178     (12)\n",
       "6   0.0276     (13)"
      ]
     },
     "execution_count": 32,
     "metadata": {},
     "output_type": "execute_result"
    }
   ],
   "source": [
    "mod_minsupport = mlxtend.frequent_patterns.apriori(\n",
    "    online_encoder_df,\n",
    "    min_support=0.01\n",
    ")\n",
    "mod_minsupport.loc[0:6]"
   ]
  },
  {
   "cell_type": "code",
   "execution_count": null,
   "id": "a6864375-2e73-438e-9f05-24065a0c8a8c",
   "metadata": {},
   "outputs": [],
   "source": []
  },
  {
   "cell_type": "markdown",
   "id": "120a0ff0-0b25-4136-bf3f-a4f8af6f80a2",
   "metadata": {},
   "source": [
    "3. Rerun the Apriori algorithm with the same minimum support as in Step 2, but this time set use_colnames to True. This will replace the numerical designations with the actual item names."
   ]
  },
  {
   "cell_type": "code",
   "execution_count": 33,
   "id": "2c333618-6e12-45c7-b648-c2eab759a419",
   "metadata": {},
   "outputs": [
    {
     "data": {
      "text/html": [
       "<div>\n",
       "<style scoped>\n",
       "    .dataframe tbody tr th:only-of-type {\n",
       "        vertical-align: middle;\n",
       "    }\n",
       "\n",
       "    .dataframe tbody tr th {\n",
       "        vertical-align: top;\n",
       "    }\n",
       "\n",
       "    .dataframe thead th {\n",
       "        text-align: right;\n",
       "    }\n",
       "</style>\n",
       "<table border=\"1\" class=\"dataframe\">\n",
       "  <thead>\n",
       "    <tr style=\"text-align: right;\">\n",
       "      <th></th>\n",
       "      <th>support</th>\n",
       "      <th>itemsets</th>\n",
       "    </tr>\n",
       "  </thead>\n",
       "  <tbody>\n",
       "    <tr>\n",
       "      <th>0</th>\n",
       "      <td>0.0110</td>\n",
       "      <td>( OVAL WALL MIRROR DIAMANTE )</td>\n",
       "    </tr>\n",
       "    <tr>\n",
       "      <th>1</th>\n",
       "      <td>0.0340</td>\n",
       "      <td>( SET 2 TEA TOWELS I LOVE LONDON )</td>\n",
       "    </tr>\n",
       "    <tr>\n",
       "      <th>2</th>\n",
       "      <td>0.0178</td>\n",
       "      <td>(10 COLOUR SPACEBOY PEN)</td>\n",
       "    </tr>\n",
       "    <tr>\n",
       "      <th>3</th>\n",
       "      <td>0.0126</td>\n",
       "      <td>(12 IVORY ROSE PEG PLACE SETTINGS)</td>\n",
       "    </tr>\n",
       "    <tr>\n",
       "      <th>4</th>\n",
       "      <td>0.0132</td>\n",
       "      <td>(12 MESSAGE CARDS WITH ENVELOPES)</td>\n",
       "    </tr>\n",
       "    <tr>\n",
       "      <th>5</th>\n",
       "      <td>0.0178</td>\n",
       "      <td>(12 PENCIL SMALL TUBE WOODLAND)</td>\n",
       "    </tr>\n",
       "    <tr>\n",
       "      <th>6</th>\n",
       "      <td>0.0276</td>\n",
       "      <td>(12 PENCILS SMALL TUBE RED RETROSPOT)</td>\n",
       "    </tr>\n",
       "  </tbody>\n",
       "</table>\n",
       "</div>"
      ],
      "text/plain": [
       "   support                               itemsets\n",
       "0   0.0110          ( OVAL WALL MIRROR DIAMANTE )\n",
       "1   0.0340     ( SET 2 TEA TOWELS I LOVE LONDON )\n",
       "2   0.0178               (10 COLOUR SPACEBOY PEN)\n",
       "3   0.0126     (12 IVORY ROSE PEG PLACE SETTINGS)\n",
       "4   0.0132      (12 MESSAGE CARDS WITH ENVELOPES)\n",
       "5   0.0178        (12 PENCIL SMALL TUBE WOODLAND)\n",
       "6   0.0276  (12 PENCILS SMALL TUBE RED RETROSPOT)"
      ]
     },
     "execution_count": 33,
     "metadata": {},
     "output_type": "execute_result"
    }
   ],
   "source": [
    "mod_colnames_minsupport = mlxtend.frequent_patterns.apriori(\n",
    "    online_encoder_df, \n",
    "    min_support=0.01,\n",
    "    use_colnames=True\n",
    ")\n",
    "mod_colnames_minsupport.loc[0:6]"
   ]
  },
  {
   "cell_type": "code",
   "execution_count": null,
   "id": "fdcbf2c3-e73e-450b-82b5-45897541eed8",
   "metadata": {},
   "outputs": [],
   "source": []
  },
  {
   "cell_type": "markdown",
   "id": "67bad9fe-e70f-4975-bac9-bdf33eb9c02a",
   "metadata": {},
   "source": [
    "4. Add an additional column to the output of Step 3 that contains the size of the item set, which will help with filtering and further analysis"
   ]
  },
  {
   "cell_type": "code",
   "execution_count": 34,
   "id": "e8fd7bef-4570-4c97-995f-bf3f38256ccc",
   "metadata": {},
   "outputs": [
    {
     "data": {
      "text/html": [
       "<div>\n",
       "<style scoped>\n",
       "    .dataframe tbody tr th:only-of-type {\n",
       "        vertical-align: middle;\n",
       "    }\n",
       "\n",
       "    .dataframe tbody tr th {\n",
       "        vertical-align: top;\n",
       "    }\n",
       "\n",
       "    .dataframe thead th {\n",
       "        text-align: right;\n",
       "    }\n",
       "</style>\n",
       "<table border=\"1\" class=\"dataframe\">\n",
       "  <thead>\n",
       "    <tr style=\"text-align: right;\">\n",
       "      <th></th>\n",
       "      <th>support</th>\n",
       "      <th>itemsets</th>\n",
       "      <th>length</th>\n",
       "    </tr>\n",
       "  </thead>\n",
       "  <tbody>\n",
       "    <tr>\n",
       "      <th>0</th>\n",
       "      <td>0.0110</td>\n",
       "      <td>( OVAL WALL MIRROR DIAMANTE )</td>\n",
       "      <td>1</td>\n",
       "    </tr>\n",
       "    <tr>\n",
       "      <th>1</th>\n",
       "      <td>0.0340</td>\n",
       "      <td>( SET 2 TEA TOWELS I LOVE LONDON )</td>\n",
       "      <td>1</td>\n",
       "    </tr>\n",
       "    <tr>\n",
       "      <th>2</th>\n",
       "      <td>0.0178</td>\n",
       "      <td>(10 COLOUR SPACEBOY PEN)</td>\n",
       "      <td>1</td>\n",
       "    </tr>\n",
       "    <tr>\n",
       "      <th>3</th>\n",
       "      <td>0.0126</td>\n",
       "      <td>(12 IVORY ROSE PEG PLACE SETTINGS)</td>\n",
       "      <td>1</td>\n",
       "    </tr>\n",
       "    <tr>\n",
       "      <th>4</th>\n",
       "      <td>0.0132</td>\n",
       "      <td>(12 MESSAGE CARDS WITH ENVELOPES)</td>\n",
       "      <td>1</td>\n",
       "    </tr>\n",
       "    <tr>\n",
       "      <th>5</th>\n",
       "      <td>0.0178</td>\n",
       "      <td>(12 PENCIL SMALL TUBE WOODLAND)</td>\n",
       "      <td>1</td>\n",
       "    </tr>\n",
       "    <tr>\n",
       "      <th>6</th>\n",
       "      <td>0.0276</td>\n",
       "      <td>(12 PENCILS SMALL TUBE RED RETROSPOT)</td>\n",
       "      <td>1</td>\n",
       "    </tr>\n",
       "  </tbody>\n",
       "</table>\n",
       "</div>"
      ],
      "text/plain": [
       "   support                               itemsets  length\n",
       "0   0.0110          ( OVAL WALL MIRROR DIAMANTE )       1\n",
       "1   0.0340     ( SET 2 TEA TOWELS I LOVE LONDON )       1\n",
       "2   0.0178               (10 COLOUR SPACEBOY PEN)       1\n",
       "3   0.0126     (12 IVORY ROSE PEG PLACE SETTINGS)       1\n",
       "4   0.0132      (12 MESSAGE CARDS WITH ENVELOPES)       1\n",
       "5   0.0178        (12 PENCIL SMALL TUBE WOODLAND)       1\n",
       "6   0.0276  (12 PENCILS SMALL TUBE RED RETROSPOT)       1"
      ]
     },
     "execution_count": 34,
     "metadata": {},
     "output_type": "execute_result"
    }
   ],
   "source": [
    "mod_colnames_minsupport['length'] = (\n",
    "    mod_colnames_minsupport['itemsets'].apply(lambda x: len(x))\n",
    ")\n",
    "mod_colnames_minsupport.loc[0:6]"
   ]
  },
  {
   "cell_type": "code",
   "execution_count": null,
   "id": "66bdd40e-222a-451d-9c92-27f4df8e5d55",
   "metadata": {},
   "outputs": [],
   "source": []
  },
  {
   "cell_type": "markdown",
   "id": "0d443d54-2b19-47be-8fc8-daae70db455b",
   "metadata": {},
   "source": [
    "5. Find the support of the item set containing '10 COLOUR SPACEBOY PEN'"
   ]
  },
  {
   "cell_type": "code",
   "execution_count": 35,
   "id": "4006b0e7-a51c-4488-ae3c-8355686e2516",
   "metadata": {},
   "outputs": [
    {
     "data": {
      "text/html": [
       "<div>\n",
       "<style scoped>\n",
       "    .dataframe tbody tr th:only-of-type {\n",
       "        vertical-align: middle;\n",
       "    }\n",
       "\n",
       "    .dataframe tbody tr th {\n",
       "        vertical-align: top;\n",
       "    }\n",
       "\n",
       "    .dataframe thead th {\n",
       "        text-align: right;\n",
       "    }\n",
       "</style>\n",
       "<table border=\"1\" class=\"dataframe\">\n",
       "  <thead>\n",
       "    <tr style=\"text-align: right;\">\n",
       "      <th></th>\n",
       "      <th>support</th>\n",
       "      <th>itemsets</th>\n",
       "      <th>length</th>\n",
       "    </tr>\n",
       "  </thead>\n",
       "  <tbody>\n",
       "    <tr>\n",
       "      <th>2</th>\n",
       "      <td>0.0178</td>\n",
       "      <td>(10 COLOUR SPACEBOY PEN)</td>\n",
       "      <td>1</td>\n",
       "    </tr>\n",
       "  </tbody>\n",
       "</table>\n",
       "</div>"
      ],
      "text/plain": [
       "   support                  itemsets  length\n",
       "2   0.0178  (10 COLOUR SPACEBOY PEN)       1"
      ]
     },
     "execution_count": 35,
     "metadata": {},
     "output_type": "execute_result"
    }
   ],
   "source": [
    "mod_colnames_minsupport[\n",
    "    mod_colnames_minsupport['itemsets'] == frozenset(\n",
    "        {'10 COLOUR SPACEBOY PEN'}\n",
    "    )\n",
    "]"
   ]
  },
  {
   "cell_type": "code",
   "execution_count": null,
   "id": "d5bea225-c11a-4057-bf32-b86fc784f518",
   "metadata": {},
   "outputs": [],
   "source": []
  },
  {
   "cell_type": "markdown",
   "id": "944a88af-8292-462d-b898-d6144a76b558",
   "metadata": {},
   "source": [
    "6. Return all item sets of length 2 whose support is in the range [0.02, 0.021]"
   ]
  },
  {
   "cell_type": "code",
   "execution_count": 36,
   "id": "aad89b98-b212-46c0-a45b-97b122c8b30c",
   "metadata": {},
   "outputs": [
    {
     "data": {
      "text/html": [
       "<div>\n",
       "<style scoped>\n",
       "    .dataframe tbody tr th:only-of-type {\n",
       "        vertical-align: middle;\n",
       "    }\n",
       "\n",
       "    .dataframe tbody tr th {\n",
       "        vertical-align: top;\n",
       "    }\n",
       "\n",
       "    .dataframe thead th {\n",
       "        text-align: right;\n",
       "    }\n",
       "</style>\n",
       "<table border=\"1\" class=\"dataframe\">\n",
       "  <thead>\n",
       "    <tr style=\"text-align: right;\">\n",
       "      <th></th>\n",
       "      <th>support</th>\n",
       "      <th>itemsets</th>\n",
       "      <th>length</th>\n",
       "    </tr>\n",
       "  </thead>\n",
       "  <tbody>\n",
       "    <tr>\n",
       "      <th>889</th>\n",
       "      <td>0.0200</td>\n",
       "      <td>(REGENCY CAKESTAND 3 TIER, 6 RIBBONS RUSTIC CH...</td>\n",
       "      <td>2</td>\n",
       "    </tr>\n",
       "    <tr>\n",
       "      <th>950</th>\n",
       "      <td>0.0208</td>\n",
       "      <td>(ALARM CLOCK BAKELIKE ORANGE, ALARM CLOCK BAKE...</td>\n",
       "      <td>2</td>\n",
       "    </tr>\n",
       "    <tr>\n",
       "      <th>1309</th>\n",
       "      <td>0.0200</td>\n",
       "      <td>(DOTCOM POSTAGE, LUNCH BAG RED RETROSPOT)</td>\n",
       "      <td>2</td>\n",
       "    </tr>\n",
       "    <tr>\n",
       "      <th>1516</th>\n",
       "      <td>0.0208</td>\n",
       "      <td>(SINGLE HEART ZINC T-LIGHT HOLDER, HANGING HEA...</td>\n",
       "      <td>2</td>\n",
       "    </tr>\n",
       "    <tr>\n",
       "      <th>1565</th>\n",
       "      <td>0.0206</td>\n",
       "      <td>(JUMBO BAG RED RETROSPOT, HEART OF WICKER SMALL)</td>\n",
       "      <td>2</td>\n",
       "    </tr>\n",
       "    <tr>\n",
       "      <th>1640</th>\n",
       "      <td>0.0204</td>\n",
       "      <td>(HOME BUILDING BLOCK WORD, WHITE HANGING HEART...</td>\n",
       "      <td>2</td>\n",
       "    </tr>\n",
       "    <tr>\n",
       "      <th>1753</th>\n",
       "      <td>0.0206</td>\n",
       "      <td>(JAM MAKING SET WITH JARS, REGENCY CAKESTAND 3...</td>\n",
       "      <td>2</td>\n",
       "    </tr>\n",
       "    <tr>\n",
       "      <th>1792</th>\n",
       "      <td>0.0206</td>\n",
       "      <td>(JUMBO BAG PINK POLKADOT, JUMBO BAG OWLS)</td>\n",
       "      <td>2</td>\n",
       "    </tr>\n",
       "    <tr>\n",
       "      <th>1879</th>\n",
       "      <td>0.0208</td>\n",
       "      <td>(JUMBO BAG RED RETROSPOT, RED RETROSPOT CHARLO...</td>\n",
       "      <td>2</td>\n",
       "    </tr>\n",
       "    <tr>\n",
       "      <th>1944</th>\n",
       "      <td>0.0204</td>\n",
       "      <td>(JUMBO STORAGE BAG SUKI, JUMBO BAG WOODLAND AN...</td>\n",
       "      <td>2</td>\n",
       "    </tr>\n",
       "    <tr>\n",
       "      <th>2046</th>\n",
       "      <td>0.0206</td>\n",
       "      <td>(LUNCH BAG CARS BLUE, LUNCH BAG RED RETROSPOT)</td>\n",
       "      <td>2</td>\n",
       "    </tr>\n",
       "    <tr>\n",
       "      <th>2071</th>\n",
       "      <td>0.0208</td>\n",
       "      <td>(LUNCH BAG WOODLAND, LUNCH BAG RED RETROSPOT)</td>\n",
       "      <td>2</td>\n",
       "    </tr>\n",
       "    <tr>\n",
       "      <th>2092</th>\n",
       "      <td>0.0202</td>\n",
       "      <td>(SMALL POPCORN HOLDER, LUNCH BAG RED RETROSPOT)</td>\n",
       "      <td>2</td>\n",
       "    </tr>\n",
       "    <tr>\n",
       "      <th>2210</th>\n",
       "      <td>0.0206</td>\n",
       "      <td>(SET/20 RED RETROSPOT PAPER NAPKINS , PACK OF ...</td>\n",
       "      <td>2</td>\n",
       "    </tr>\n",
       "    <tr>\n",
       "      <th>2309</th>\n",
       "      <td>0.0208</td>\n",
       "      <td>(RECIPE BOX PANTRY YELLOW DESIGN, SET OF 6 SPI...</td>\n",
       "      <td>2</td>\n",
       "    </tr>\n",
       "    <tr>\n",
       "      <th>2355</th>\n",
       "      <td>0.0200</td>\n",
       "      <td>(STRAWBERRY CHARLOTTE BAG, RED RETROSPOT CHARL...</td>\n",
       "      <td>2</td>\n",
       "    </tr>\n",
       "    <tr>\n",
       "      <th>2408</th>\n",
       "      <td>0.0208</td>\n",
       "      <td>(SCOTTIE DOG HOT WATER BOTTLE, RETROSPOT HEART...</td>\n",
       "      <td>2</td>\n",
       "    </tr>\n",
       "    <tr>\n",
       "      <th>2517</th>\n",
       "      <td>0.0208</td>\n",
       "      <td>(WHITE HANGING HEART T-LIGHT HOLDER, VICTORIAN...</td>\n",
       "      <td>2</td>\n",
       "    </tr>\n",
       "  </tbody>\n",
       "</table>\n",
       "</div>"
      ],
      "text/plain": [
       "      support                                           itemsets  length\n",
       "889    0.0200  (REGENCY CAKESTAND 3 TIER, 6 RIBBONS RUSTIC CH...       2\n",
       "950    0.0208  (ALARM CLOCK BAKELIKE ORANGE, ALARM CLOCK BAKE...       2\n",
       "1309   0.0200          (DOTCOM POSTAGE, LUNCH BAG RED RETROSPOT)       2\n",
       "1516   0.0208  (SINGLE HEART ZINC T-LIGHT HOLDER, HANGING HEA...       2\n",
       "1565   0.0206   (JUMBO BAG RED RETROSPOT, HEART OF WICKER SMALL)       2\n",
       "1640   0.0204  (HOME BUILDING BLOCK WORD, WHITE HANGING HEART...       2\n",
       "1753   0.0206  (JAM MAKING SET WITH JARS, REGENCY CAKESTAND 3...       2\n",
       "1792   0.0206          (JUMBO BAG PINK POLKADOT, JUMBO BAG OWLS)       2\n",
       "1879   0.0208  (JUMBO BAG RED RETROSPOT, RED RETROSPOT CHARLO...       2\n",
       "1944   0.0204  (JUMBO STORAGE BAG SUKI, JUMBO BAG WOODLAND AN...       2\n",
       "2046   0.0206     (LUNCH BAG CARS BLUE, LUNCH BAG RED RETROSPOT)       2\n",
       "2071   0.0208      (LUNCH BAG WOODLAND, LUNCH BAG RED RETROSPOT)       2\n",
       "2092   0.0202    (SMALL POPCORN HOLDER, LUNCH BAG RED RETROSPOT)       2\n",
       "2210   0.0206  (SET/20 RED RETROSPOT PAPER NAPKINS , PACK OF ...       2\n",
       "2309   0.0208  (RECIPE BOX PANTRY YELLOW DESIGN, SET OF 6 SPI...       2\n",
       "2355   0.0200  (STRAWBERRY CHARLOTTE BAG, RED RETROSPOT CHARL...       2\n",
       "2408   0.0208  (SCOTTIE DOG HOT WATER BOTTLE, RETROSPOT HEART...       2\n",
       "2517   0.0208  (WHITE HANGING HEART T-LIGHT HOLDER, VICTORIAN...       2"
      ]
     },
     "execution_count": 36,
     "metadata": {},
     "output_type": "execute_result"
    }
   ],
   "source": [
    "mod_colnames_minsupport[\n",
    "    (mod_colnames_minsupport['length'] == 2) & \n",
    "    (mod_colnames_minsupport['support'] >= 0.02) &\n",
    "    (mod_colnames_minsupport['support'] < 0.021)\n",
    "] "
   ]
  },
  {
   "cell_type": "code",
   "execution_count": null,
   "id": "ae575d56-86e0-44fe-9e26-1649063e28ce",
   "metadata": {},
   "outputs": [],
   "source": []
  },
  {
   "cell_type": "markdown",
   "id": "98c4ce78-0eb0-4e1b-bd96-d9fa9aa301d8",
   "metadata": {},
   "source": [
    "7. Plot the support values. Note that this plot will have no support values less than 0.01 because that was the value used as the minimum support"
   ]
  },
  {
   "cell_type": "code",
   "execution_count": 37,
   "id": "5036dbb9-a17c-441f-9b10-4db1e9d20280",
   "metadata": {},
   "outputs": [
    {
     "data": {
      "text/plain": [
       "Text(0.5, 1.0, 'Support')"
      ]
     },
     "execution_count": 37,
     "metadata": {},
     "output_type": "execute_result"
    },
    {
     "data": {
      "image/png": "[encoded data removed]",
      "text/plain": [
       "<Figure size 640x480 with 1 Axes>"
      ]
     },
     "metadata": {},
     "output_type": "display_data"
    }
   ],
   "source": [
    "mod_colnames_minsupport.hist(\"support\", grid=False, bins=30)\n",
    "plt.title(\"Support\")"
   ]
  },
  {
   "cell_type": "code",
   "execution_count": null,
   "id": "6837822b-24fb-4234-a961-691a7080f319",
   "metadata": {},
   "outputs": [],
   "source": []
  },
  {
   "cell_type": "markdown",
   "id": "b95d4c00-28a5-4fc7-b469-070e855433d8",
   "metadata": {},
   "source": [
    "# Activity 19: Apriori on the Complete Online Retail Dataset"
   ]
  },
  {
   "cell_type": "markdown",
   "id": "f463b045-fe14-45e5-a516-703b531e6f34",
   "metadata": {},
   "source": [
    "1. Run the Apriori algorithm on the full data with reasonable parameter settings"
   ]
  },
  {
   "cell_type": "code",
   "execution_count": 38,
   "id": "2746998b-5fef-474f-8c57-ff0cc49cdd36",
   "metadata": {},
   "outputs": [
    {
     "data": {
      "text/html": [
       "<div>\n",
       "<style scoped>\n",
       "    .dataframe tbody tr th:only-of-type {\n",
       "        vertical-align: middle;\n",
       "    }\n",
       "\n",
       "    .dataframe tbody tr th {\n",
       "        vertical-align: top;\n",
       "    }\n",
       "\n",
       "    .dataframe thead th {\n",
       "        text-align: right;\n",
       "    }\n",
       "</style>\n",
       "<table border=\"1\" class=\"dataframe\">\n",
       "  <thead>\n",
       "    <tr style=\"text-align: right;\">\n",
       "      <th></th>\n",
       "      <th>support</th>\n",
       "      <th>itemsets</th>\n",
       "    </tr>\n",
       "  </thead>\n",
       "  <tbody>\n",
       "    <tr>\n",
       "      <th>0</th>\n",
       "      <td>0.0110</td>\n",
       "      <td>( OVAL WALL MIRROR DIAMANTE )</td>\n",
       "    </tr>\n",
       "    <tr>\n",
       "      <th>1</th>\n",
       "      <td>0.0340</td>\n",
       "      <td>( SET 2 TEA TOWELS I LOVE LONDON )</td>\n",
       "    </tr>\n",
       "    <tr>\n",
       "      <th>2</th>\n",
       "      <td>0.0178</td>\n",
       "      <td>(10 COLOUR SPACEBOY PEN)</td>\n",
       "    </tr>\n",
       "    <tr>\n",
       "      <th>3</th>\n",
       "      <td>0.0126</td>\n",
       "      <td>(12 IVORY ROSE PEG PLACE SETTINGS)</td>\n",
       "    </tr>\n",
       "    <tr>\n",
       "      <th>4</th>\n",
       "      <td>0.0132</td>\n",
       "      <td>(12 MESSAGE CARDS WITH ENVELOPES)</td>\n",
       "    </tr>\n",
       "    <tr>\n",
       "      <th>5</th>\n",
       "      <td>0.0178</td>\n",
       "      <td>(12 PENCIL SMALL TUBE WOODLAND)</td>\n",
       "    </tr>\n",
       "    <tr>\n",
       "      <th>6</th>\n",
       "      <td>0.0276</td>\n",
       "      <td>(12 PENCILS SMALL TUBE RED RETROSPOT)</td>\n",
       "    </tr>\n",
       "  </tbody>\n",
       "</table>\n",
       "</div>"
      ],
      "text/plain": [
       "   support                               itemsets\n",
       "0   0.0110          ( OVAL WALL MIRROR DIAMANTE )\n",
       "1   0.0340     ( SET 2 TEA TOWELS I LOVE LONDON )\n",
       "2   0.0178               (10 COLOUR SPACEBOY PEN)\n",
       "3   0.0126     (12 IVORY ROSE PEG PLACE SETTINGS)\n",
       "4   0.0132      (12 MESSAGE CARDS WITH ENVELOPES)\n",
       "5   0.0178        (12 PENCIL SMALL TUBE WOODLAND)\n",
       "6   0.0276  (12 PENCILS SMALL TUBE RED RETROSPOT)"
      ]
     },
     "execution_count": 38,
     "metadata": {},
     "output_type": "execute_result"
    }
   ],
   "source": [
    "mod_colnames_minsupport = mlxtend.frequent_patterns.apriori(\n",
    "    online_encoder_df, \n",
    "    min_support=0.01,\n",
    "    use_colnames=True\n",
    ")\n",
    "mod_colnames_minsupport.loc[0:6]"
   ]
  },
  {
   "cell_type": "code",
   "execution_count": null,
   "id": "4635bed9-b2c7-4f3e-9741-b273a2b1f6b5",
   "metadata": {},
   "outputs": [],
   "source": []
  },
  {
   "cell_type": "markdown",
   "id": "eeecb106-a3f1-46c0-a0de-da8dffcee976",
   "metadata": {},
   "source": [
    "2. Filter the results down to the item set containing 10 COLOUR SPACEBOY PEN. Compare the support value to that of Exercise 44, Executing the Apriori algorithm."
   ]
  },
  {
   "cell_type": "code",
   "execution_count": 39,
   "id": "6651c372-bbba-431a-86cc-e63e114b5cbd",
   "metadata": {},
   "outputs": [
    {
     "data": {
      "text/html": [
       "<div>\n",
       "<style scoped>\n",
       "    .dataframe tbody tr th:only-of-type {\n",
       "        vertical-align: middle;\n",
       "    }\n",
       "\n",
       "    .dataframe tbody tr th {\n",
       "        vertical-align: top;\n",
       "    }\n",
       "\n",
       "    .dataframe thead th {\n",
       "        text-align: right;\n",
       "    }\n",
       "</style>\n",
       "<table border=\"1\" class=\"dataframe\">\n",
       "  <thead>\n",
       "    <tr style=\"text-align: right;\">\n",
       "      <th></th>\n",
       "      <th>support</th>\n",
       "      <th>itemsets</th>\n",
       "    </tr>\n",
       "  </thead>\n",
       "  <tbody>\n",
       "    <tr>\n",
       "      <th>2</th>\n",
       "      <td>0.0178</td>\n",
       "      <td>(10 COLOUR SPACEBOY PEN)</td>\n",
       "    </tr>\n",
       "  </tbody>\n",
       "</table>\n",
       "</div>"
      ],
      "text/plain": [
       "   support                  itemsets\n",
       "2   0.0178  (10 COLOUR SPACEBOY PEN)"
      ]
     },
     "execution_count": 39,
     "metadata": {},
     "output_type": "execute_result"
    }
   ],
   "source": [
    "mod_colnames_minsupport[\n",
    "    mod_colnames_minsupport['itemsets'] == frozenset(\n",
    "        {'10 COLOUR SPACEBOY PEN'}\n",
    "    )\n",
    "]"
   ]
  },
  {
   "cell_type": "code",
   "execution_count": null,
   "id": "5aa3cc87-eef0-423d-b209-afe99410757e",
   "metadata": {},
   "outputs": [],
   "source": []
  },
  {
   "cell_type": "markdown",
   "id": "b26699c6-c9b5-4983-ac7b-cef1b495010f",
   "metadata": {},
   "source": [
    "3. Add another column containing the item set length. Then, filter down to those item sets whose length is two and whose support is in the range [0.02, 0.021]. Compare this to the result from Exercise 44, Executing the Apriori algorithm."
   ]
  },
  {
   "cell_type": "code",
   "execution_count": 40,
   "id": "0ea2922e-3eba-4409-b0f8-df1022f0f26f",
   "metadata": {},
   "outputs": [
    {
     "data": {
      "text/html": [
       "<div>\n",
       "<style scoped>\n",
       "    .dataframe tbody tr th:only-of-type {\n",
       "        vertical-align: middle;\n",
       "    }\n",
       "\n",
       "    .dataframe tbody tr th {\n",
       "        vertical-align: top;\n",
       "    }\n",
       "\n",
       "    .dataframe thead th {\n",
       "        text-align: right;\n",
       "    }\n",
       "</style>\n",
       "<table border=\"1\" class=\"dataframe\">\n",
       "  <thead>\n",
       "    <tr style=\"text-align: right;\">\n",
       "      <th></th>\n",
       "      <th>support</th>\n",
       "      <th>itemsets</th>\n",
       "      <th>length</th>\n",
       "    </tr>\n",
       "  </thead>\n",
       "  <tbody>\n",
       "    <tr>\n",
       "      <th>889</th>\n",
       "      <td>0.0200</td>\n",
       "      <td>(REGENCY CAKESTAND 3 TIER, 6 RIBBONS RUSTIC CH...</td>\n",
       "      <td>2</td>\n",
       "    </tr>\n",
       "    <tr>\n",
       "      <th>950</th>\n",
       "      <td>0.0208</td>\n",
       "      <td>(ALARM CLOCK BAKELIKE ORANGE, ALARM CLOCK BAKE...</td>\n",
       "      <td>2</td>\n",
       "    </tr>\n",
       "    <tr>\n",
       "      <th>1309</th>\n",
       "      <td>0.0200</td>\n",
       "      <td>(DOTCOM POSTAGE, LUNCH BAG RED RETROSPOT)</td>\n",
       "      <td>2</td>\n",
       "    </tr>\n",
       "    <tr>\n",
       "      <th>1516</th>\n",
       "      <td>0.0208</td>\n",
       "      <td>(SINGLE HEART ZINC T-LIGHT HOLDER, HANGING HEA...</td>\n",
       "      <td>2</td>\n",
       "    </tr>\n",
       "    <tr>\n",
       "      <th>1565</th>\n",
       "      <td>0.0206</td>\n",
       "      <td>(JUMBO BAG RED RETROSPOT, HEART OF WICKER SMALL)</td>\n",
       "      <td>2</td>\n",
       "    </tr>\n",
       "    <tr>\n",
       "      <th>1640</th>\n",
       "      <td>0.0204</td>\n",
       "      <td>(HOME BUILDING BLOCK WORD, WHITE HANGING HEART...</td>\n",
       "      <td>2</td>\n",
       "    </tr>\n",
       "    <tr>\n",
       "      <th>1753</th>\n",
       "      <td>0.0206</td>\n",
       "      <td>(JAM MAKING SET WITH JARS, REGENCY CAKESTAND 3...</td>\n",
       "      <td>2</td>\n",
       "    </tr>\n",
       "    <tr>\n",
       "      <th>1792</th>\n",
       "      <td>0.0206</td>\n",
       "      <td>(JUMBO BAG PINK POLKADOT, JUMBO BAG OWLS)</td>\n",
       "      <td>2</td>\n",
       "    </tr>\n",
       "    <tr>\n",
       "      <th>1879</th>\n",
       "      <td>0.0208</td>\n",
       "      <td>(JUMBO BAG RED RETROSPOT, RED RETROSPOT CHARLO...</td>\n",
       "      <td>2</td>\n",
       "    </tr>\n",
       "    <tr>\n",
       "      <th>1944</th>\n",
       "      <td>0.0204</td>\n",
       "      <td>(JUMBO STORAGE BAG SUKI, JUMBO BAG WOODLAND AN...</td>\n",
       "      <td>2</td>\n",
       "    </tr>\n",
       "    <tr>\n",
       "      <th>2046</th>\n",
       "      <td>0.0206</td>\n",
       "      <td>(LUNCH BAG CARS BLUE, LUNCH BAG RED RETROSPOT)</td>\n",
       "      <td>2</td>\n",
       "    </tr>\n",
       "    <tr>\n",
       "      <th>2071</th>\n",
       "      <td>0.0208</td>\n",
       "      <td>(LUNCH BAG WOODLAND, LUNCH BAG RED RETROSPOT)</td>\n",
       "      <td>2</td>\n",
       "    </tr>\n",
       "    <tr>\n",
       "      <th>2092</th>\n",
       "      <td>0.0202</td>\n",
       "      <td>(SMALL POPCORN HOLDER, LUNCH BAG RED RETROSPOT)</td>\n",
       "      <td>2</td>\n",
       "    </tr>\n",
       "    <tr>\n",
       "      <th>2210</th>\n",
       "      <td>0.0206</td>\n",
       "      <td>(SET/20 RED RETROSPOT PAPER NAPKINS , PACK OF ...</td>\n",
       "      <td>2</td>\n",
       "    </tr>\n",
       "    <tr>\n",
       "      <th>2309</th>\n",
       "      <td>0.0208</td>\n",
       "      <td>(RECIPE BOX PANTRY YELLOW DESIGN, SET OF 6 SPI...</td>\n",
       "      <td>2</td>\n",
       "    </tr>\n",
       "    <tr>\n",
       "      <th>2355</th>\n",
       "      <td>0.0200</td>\n",
       "      <td>(STRAWBERRY CHARLOTTE BAG, RED RETROSPOT CHARL...</td>\n",
       "      <td>2</td>\n",
       "    </tr>\n",
       "    <tr>\n",
       "      <th>2408</th>\n",
       "      <td>0.0208</td>\n",
       "      <td>(SCOTTIE DOG HOT WATER BOTTLE, RETROSPOT HEART...</td>\n",
       "      <td>2</td>\n",
       "    </tr>\n",
       "    <tr>\n",
       "      <th>2517</th>\n",
       "      <td>0.0208</td>\n",
       "      <td>(WHITE HANGING HEART T-LIGHT HOLDER, VICTORIAN...</td>\n",
       "      <td>2</td>\n",
       "    </tr>\n",
       "  </tbody>\n",
       "</table>\n",
       "</div>"
      ],
      "text/plain": [
       "      support                                           itemsets  length\n",
       "889    0.0200  (REGENCY CAKESTAND 3 TIER, 6 RIBBONS RUSTIC CH...       2\n",
       "950    0.0208  (ALARM CLOCK BAKELIKE ORANGE, ALARM CLOCK BAKE...       2\n",
       "1309   0.0200          (DOTCOM POSTAGE, LUNCH BAG RED RETROSPOT)       2\n",
       "1516   0.0208  (SINGLE HEART ZINC T-LIGHT HOLDER, HANGING HEA...       2\n",
       "1565   0.0206   (JUMBO BAG RED RETROSPOT, HEART OF WICKER SMALL)       2\n",
       "1640   0.0204  (HOME BUILDING BLOCK WORD, WHITE HANGING HEART...       2\n",
       "1753   0.0206  (JAM MAKING SET WITH JARS, REGENCY CAKESTAND 3...       2\n",
       "1792   0.0206          (JUMBO BAG PINK POLKADOT, JUMBO BAG OWLS)       2\n",
       "1879   0.0208  (JUMBO BAG RED RETROSPOT, RED RETROSPOT CHARLO...       2\n",
       "1944   0.0204  (JUMBO STORAGE BAG SUKI, JUMBO BAG WOODLAND AN...       2\n",
       "2046   0.0206     (LUNCH BAG CARS BLUE, LUNCH BAG RED RETROSPOT)       2\n",
       "2071   0.0208      (LUNCH BAG WOODLAND, LUNCH BAG RED RETROSPOT)       2\n",
       "2092   0.0202    (SMALL POPCORN HOLDER, LUNCH BAG RED RETROSPOT)       2\n",
       "2210   0.0206  (SET/20 RED RETROSPOT PAPER NAPKINS , PACK OF ...       2\n",
       "2309   0.0208  (RECIPE BOX PANTRY YELLOW DESIGN, SET OF 6 SPI...       2\n",
       "2355   0.0200  (STRAWBERRY CHARLOTTE BAG, RED RETROSPOT CHARL...       2\n",
       "2408   0.0208  (SCOTTIE DOG HOT WATER BOTTLE, RETROSPOT HEART...       2\n",
       "2517   0.0208  (WHITE HANGING HEART T-LIGHT HOLDER, VICTORIAN...       2"
      ]
     },
     "execution_count": 40,
     "metadata": {},
     "output_type": "execute_result"
    }
   ],
   "source": [
    "mod_colnames_minsupport['length'] = (\n",
    "    mod_colnames_minsupport['itemsets'].apply(lambda x: len(x))\n",
    ")\n",
    "\n",
    "mod_colnames_minsupport[\n",
    "    (mod_colnames_minsupport['length'] == 2) & \n",
    "    (mod_colnames_minsupport['support'] >= 0.02) &\n",
    "    (mod_colnames_minsupport['support'] < 0.021)\n",
    "]"
   ]
  },
  {
   "cell_type": "code",
   "execution_count": null,
   "id": "d02e1a42-2773-469b-886b-01d6f167cd18",
   "metadata": {},
   "outputs": [],
   "source": []
  },
  {
   "cell_type": "markdown",
   "id": "d0b11772-3eb7-47c0-8d00-6c64f3fc87fe",
   "metadata": {},
   "source": [
    "4. Plot the support values"
   ]
  },
  {
   "cell_type": "code",
   "execution_count": 41,
   "id": "fdb6b2d7-8207-402b-bdf0-3dd69bc5a22c",
   "metadata": {},
   "outputs": [
    {
     "data": {
      "image/png": "[encoded data removed]",
      "text/plain": [
       "<Figure size 640x480 with 1 Axes>"
      ]
     },
     "metadata": {},
     "output_type": "display_data"
    }
   ],
   "source": [
    "mod_colnames_minsupport.hist(\"support\", grid=False, bins=30)\n",
    "plt.title(\"Support\");"
   ]
  },
  {
   "cell_type": "code",
   "execution_count": null,
   "id": "b777369e-d4b6-4ebd-abea-d2c6d47ce8b9",
   "metadata": {},
   "outputs": [],
   "source": []
  },
  {
   "cell_type": "markdown",
   "id": "aa70e575-055f-4c14-843a-ee926735c17f",
   "metadata": {},
   "source": [
    "# Exercise 45: Deriving Association Rules"
   ]
  },
  {
   "cell_type": "markdown",
   "id": "7ed175fe-15af-4a4e-a7aa-d92ef89972a6",
   "metadata": {},
   "source": [
    "1. Use the mlxtend library to derive association rules for the online retail dataset. Use confidence as the measure of interestingness, set the minimum threshold to 0.6, and return all the metrics, not just support. Count the number of returned association rules."
   ]
  },
  {
   "cell_type": "code",
   "execution_count": 42,
   "id": "d1fb5259-c0dd-4ba1-96d4-2e8232d6275c",
   "metadata": {},
   "outputs": [
    {
     "data": {
      "text/html": [
       "<div>\n",
       "<style scoped>\n",
       "    .dataframe tbody tr th:only-of-type {\n",
       "        vertical-align: middle;\n",
       "    }\n",
       "\n",
       "    .dataframe tbody tr th {\n",
       "        vertical-align: top;\n",
       "    }\n",
       "\n",
       "    .dataframe thead th {\n",
       "        text-align: right;\n",
       "    }\n",
       "</style>\n",
       "<table border=\"1\" class=\"dataframe\">\n",
       "  <thead>\n",
       "    <tr style=\"text-align: right;\">\n",
       "      <th></th>\n",
       "      <th>antecedents</th>\n",
       "      <th>consequents</th>\n",
       "      <th>antecedent support</th>\n",
       "      <th>consequent support</th>\n",
       "      <th>support</th>\n",
       "      <th>confidence</th>\n",
       "      <th>lift</th>\n",
       "      <th>leverage</th>\n",
       "      <th>conviction</th>\n",
       "      <th>zhangs_metric</th>\n",
       "    </tr>\n",
       "  </thead>\n",
       "  <tbody>\n",
       "    <tr>\n",
       "      <th>0</th>\n",
       "      <td>(12 PENCILS SMALL TUBE SKULL)</td>\n",
       "      <td>(12 PENCILS SMALL TUBE RED RETROSPOT)</td>\n",
       "      <td>0.0222</td>\n",
       "      <td>0.0276</td>\n",
       "      <td>0.0152</td>\n",
       "      <td>0.684685</td>\n",
       "      <td>24.807416</td>\n",
       "      <td>0.014587</td>\n",
       "      <td>3.083897</td>\n",
       "      <td>0.981478</td>\n",
       "    </tr>\n",
       "    <tr>\n",
       "      <th>1</th>\n",
       "      <td>(ALARM CLOCK BAKELIKE CHOCOLATE)</td>\n",
       "      <td>(ALARM CLOCK BAKELIKE GREEN)</td>\n",
       "      <td>0.0208</td>\n",
       "      <td>0.0546</td>\n",
       "      <td>0.0140</td>\n",
       "      <td>0.673077</td>\n",
       "      <td>12.327416</td>\n",
       "      <td>0.012864</td>\n",
       "      <td>2.891812</td>\n",
       "      <td>0.938399</td>\n",
       "    </tr>\n",
       "    <tr>\n",
       "      <th>2</th>\n",
       "      <td>(ALARM CLOCK BAKELIKE CHOCOLATE)</td>\n",
       "      <td>(ALARM CLOCK BAKELIKE RED )</td>\n",
       "      <td>0.0208</td>\n",
       "      <td>0.0520</td>\n",
       "      <td>0.0140</td>\n",
       "      <td>0.673077</td>\n",
       "      <td>12.943787</td>\n",
       "      <td>0.012918</td>\n",
       "      <td>2.899765</td>\n",
       "      <td>0.942344</td>\n",
       "    </tr>\n",
       "    <tr>\n",
       "      <th>3</th>\n",
       "      <td>(ALARM CLOCK BAKELIKE IVORY)</td>\n",
       "      <td>(ALARM CLOCK BAKELIKE GREEN)</td>\n",
       "      <td>0.0268</td>\n",
       "      <td>0.0546</td>\n",
       "      <td>0.0164</td>\n",
       "      <td>0.611940</td>\n",
       "      <td>11.207698</td>\n",
       "      <td>0.014937</td>\n",
       "      <td>2.436223</td>\n",
       "      <td>0.935857</td>\n",
       "    </tr>\n",
       "    <tr>\n",
       "      <th>4</th>\n",
       "      <td>(ALARM CLOCK BAKELIKE ORANGE)</td>\n",
       "      <td>(ALARM CLOCK BAKELIKE GREEN)</td>\n",
       "      <td>0.0278</td>\n",
       "      <td>0.0546</td>\n",
       "      <td>0.0208</td>\n",
       "      <td>0.748201</td>\n",
       "      <td>13.703323</td>\n",
       "      <td>0.019282</td>\n",
       "      <td>3.754589</td>\n",
       "      <td>0.953533</td>\n",
       "    </tr>\n",
       "    <tr>\n",
       "      <th>5</th>\n",
       "      <td>(ALARM CLOCK BAKELIKE RED )</td>\n",
       "      <td>(ALARM CLOCK BAKELIKE GREEN)</td>\n",
       "      <td>0.0520</td>\n",
       "      <td>0.0546</td>\n",
       "      <td>0.0358</td>\n",
       "      <td>0.688462</td>\n",
       "      <td>12.609186</td>\n",
       "      <td>0.032961</td>\n",
       "      <td>3.034617</td>\n",
       "      <td>0.971195</td>\n",
       "    </tr>\n",
       "    <tr>\n",
       "      <th>6</th>\n",
       "      <td>(ALARM CLOCK BAKELIKE GREEN)</td>\n",
       "      <td>(ALARM CLOCK BAKELIKE RED )</td>\n",
       "      <td>0.0546</td>\n",
       "      <td>0.0520</td>\n",
       "      <td>0.0358</td>\n",
       "      <td>0.655678</td>\n",
       "      <td>12.609186</td>\n",
       "      <td>0.032961</td>\n",
       "      <td>2.753234</td>\n",
       "      <td>0.973866</td>\n",
       "    </tr>\n",
       "  </tbody>\n",
       "</table>\n",
       "</div>"
      ],
      "text/plain": [
       "                        antecedents                            consequents  \\\n",
       "0     (12 PENCILS SMALL TUBE SKULL)  (12 PENCILS SMALL TUBE RED RETROSPOT)   \n",
       "1  (ALARM CLOCK BAKELIKE CHOCOLATE)           (ALARM CLOCK BAKELIKE GREEN)   \n",
       "2  (ALARM CLOCK BAKELIKE CHOCOLATE)            (ALARM CLOCK BAKELIKE RED )   \n",
       "3      (ALARM CLOCK BAKELIKE IVORY)           (ALARM CLOCK BAKELIKE GREEN)   \n",
       "4     (ALARM CLOCK BAKELIKE ORANGE)           (ALARM CLOCK BAKELIKE GREEN)   \n",
       "5       (ALARM CLOCK BAKELIKE RED )           (ALARM CLOCK BAKELIKE GREEN)   \n",
       "6      (ALARM CLOCK BAKELIKE GREEN)            (ALARM CLOCK BAKELIKE RED )   \n",
       "\n",
       "   antecedent support  consequent support  support  confidence       lift  \\\n",
       "0              0.0222              0.0276   0.0152    0.684685  24.807416   \n",
       "1              0.0208              0.0546   0.0140    0.673077  12.327416   \n",
       "2              0.0208              0.0520   0.0140    0.673077  12.943787   \n",
       "3              0.0268              0.0546   0.0164    0.611940  11.207698   \n",
       "4              0.0278              0.0546   0.0208    0.748201  13.703323   \n",
       "5              0.0520              0.0546   0.0358    0.688462  12.609186   \n",
       "6              0.0546              0.0520   0.0358    0.655678  12.609186   \n",
       "\n",
       "   leverage  conviction  zhangs_metric  \n",
       "0  0.014587    3.083897       0.981478  \n",
       "1  0.012864    2.891812       0.938399  \n",
       "2  0.012918    2.899765       0.942344  \n",
       "3  0.014937    2.436223       0.935857  \n",
       "4  0.019282    3.754589       0.953533  \n",
       "5  0.032961    3.034617       0.971195  \n",
       "6  0.032961    2.753234       0.973866  "
      ]
     },
     "execution_count": 42,
     "metadata": {},
     "output_type": "execute_result"
    }
   ],
   "source": [
    "rules = mlxtend.frequent_patterns.association_rules(\n",
    "    mod_colnames_minsupport, \n",
    "    metric=\"confidence\",\n",
    "    min_threshold=0.6, \n",
    "    support_only=False\n",
    ")\n",
    "rules.loc[0:6]"
   ]
  },
  {
   "cell_type": "code",
   "execution_count": null,
   "id": "57a3136b-3043-41bc-8a25-bdb1d1b2401c",
   "metadata": {},
   "outputs": [],
   "source": []
  },
  {
   "cell_type": "markdown",
   "id": "d9560903-afff-403f-853a-8bcb7db3b16c",
   "metadata": {},
   "source": [
    "2. Print the number of associations"
   ]
  },
  {
   "cell_type": "code",
   "execution_count": 43,
   "id": "08ac839e-f83c-4726-8296-f992fbbb9194",
   "metadata": {},
   "outputs": [
    {
     "name": "stdout",
     "output_type": "stream",
     "text": [
      "Number of Associations: 1064\n"
     ]
    }
   ],
   "source": [
    "print(\"Number of Associations: {}\".format(rules.shape[0]))"
   ]
  },
  {
   "cell_type": "code",
   "execution_count": null,
   "id": "6d803780-f3dc-413c-996e-8c2d2263bbe3",
   "metadata": {},
   "outputs": [],
   "source": []
  },
  {
   "cell_type": "markdown",
   "id": "7e556d0a-fbcf-43ad-af58-31948de26556",
   "metadata": {},
   "source": [
    "3. Try running another version of the model. Choose any minimum threshold and any measure of interestingness. Count and explore the returned rules:"
   ]
  },
  {
   "cell_type": "code",
   "execution_count": 44,
   "id": "92d38463-c270-448d-b422-012eaf4140f3",
   "metadata": {},
   "outputs": [
    {
     "data": {
      "text/html": [
       "<div>\n",
       "<style scoped>\n",
       "    .dataframe tbody tr th:only-of-type {\n",
       "        vertical-align: middle;\n",
       "    }\n",
       "\n",
       "    .dataframe tbody tr th {\n",
       "        vertical-align: top;\n",
       "    }\n",
       "\n",
       "    .dataframe thead th {\n",
       "        text-align: right;\n",
       "    }\n",
       "</style>\n",
       "<table border=\"1\" class=\"dataframe\">\n",
       "  <thead>\n",
       "    <tr style=\"text-align: right;\">\n",
       "      <th></th>\n",
       "      <th>antecedents</th>\n",
       "      <th>consequents</th>\n",
       "      <th>antecedent support</th>\n",
       "      <th>consequent support</th>\n",
       "      <th>support</th>\n",
       "      <th>confidence</th>\n",
       "      <th>lift</th>\n",
       "      <th>leverage</th>\n",
       "      <th>conviction</th>\n",
       "      <th>zhangs_metric</th>\n",
       "    </tr>\n",
       "  </thead>\n",
       "  <tbody>\n",
       "    <tr>\n",
       "      <th>0</th>\n",
       "      <td>(BEADED CRYSTAL HEART GREEN ON STICK)</td>\n",
       "      <td>(BEADED CRYSTAL HEART PINK ON STICK)</td>\n",
       "      <td>0.0126</td>\n",
       "      <td>0.0156</td>\n",
       "      <td>0.0108</td>\n",
       "      <td>0.857143</td>\n",
       "      <td>54.945055</td>\n",
       "      <td>0.010603</td>\n",
       "      <td>6.890800</td>\n",
       "      <td>0.994329</td>\n",
       "    </tr>\n",
       "    <tr>\n",
       "      <th>1</th>\n",
       "      <td>(BEADED CRYSTAL HEART PINK ON STICK)</td>\n",
       "      <td>(BEADED CRYSTAL HEART GREEN ON STICK)</td>\n",
       "      <td>0.0156</td>\n",
       "      <td>0.0126</td>\n",
       "      <td>0.0108</td>\n",
       "      <td>0.692308</td>\n",
       "      <td>54.945055</td>\n",
       "      <td>0.010603</td>\n",
       "      <td>3.209050</td>\n",
       "      <td>0.997359</td>\n",
       "    </tr>\n",
       "    <tr>\n",
       "      <th>2</th>\n",
       "      <td>(CHRISTMAS TREE DECORATION WITH BELL)</td>\n",
       "      <td>(CHRISTMAS TREE HEART DECORATION)</td>\n",
       "      <td>0.0140</td>\n",
       "      <td>0.0140</td>\n",
       "      <td>0.0120</td>\n",
       "      <td>0.857143</td>\n",
       "      <td>61.224490</td>\n",
       "      <td>0.011804</td>\n",
       "      <td>6.902000</td>\n",
       "      <td>0.997634</td>\n",
       "    </tr>\n",
       "    <tr>\n",
       "      <th>3</th>\n",
       "      <td>(CHRISTMAS TREE HEART DECORATION)</td>\n",
       "      <td>(CHRISTMAS TREE DECORATION WITH BELL)</td>\n",
       "      <td>0.0140</td>\n",
       "      <td>0.0140</td>\n",
       "      <td>0.0120</td>\n",
       "      <td>0.857143</td>\n",
       "      <td>61.224490</td>\n",
       "      <td>0.011804</td>\n",
       "      <td>6.902000</td>\n",
       "      <td>0.997634</td>\n",
       "    </tr>\n",
       "    <tr>\n",
       "      <th>4</th>\n",
       "      <td>(CHRISTMAS TREE DECORATION WITH BELL)</td>\n",
       "      <td>(CHRISTMAS TREE STAR DECORATION)</td>\n",
       "      <td>0.0140</td>\n",
       "      <td>0.0140</td>\n",
       "      <td>0.0120</td>\n",
       "      <td>0.857143</td>\n",
       "      <td>61.224490</td>\n",
       "      <td>0.011804</td>\n",
       "      <td>6.902000</td>\n",
       "      <td>0.997634</td>\n",
       "    </tr>\n",
       "    <tr>\n",
       "      <th>5</th>\n",
       "      <td>(CHRISTMAS TREE STAR DECORATION)</td>\n",
       "      <td>(CHRISTMAS TREE DECORATION WITH BELL)</td>\n",
       "      <td>0.0140</td>\n",
       "      <td>0.0140</td>\n",
       "      <td>0.0120</td>\n",
       "      <td>0.857143</td>\n",
       "      <td>61.224490</td>\n",
       "      <td>0.011804</td>\n",
       "      <td>6.902000</td>\n",
       "      <td>0.997634</td>\n",
       "    </tr>\n",
       "    <tr>\n",
       "      <th>6</th>\n",
       "      <td>(CHRISTMAS TREE STAR DECORATION)</td>\n",
       "      <td>(CHRISTMAS TREE HEART DECORATION)</td>\n",
       "      <td>0.0140</td>\n",
       "      <td>0.0140</td>\n",
       "      <td>0.0122</td>\n",
       "      <td>0.871429</td>\n",
       "      <td>62.244898</td>\n",
       "      <td>0.012004</td>\n",
       "      <td>7.668889</td>\n",
       "      <td>0.997905</td>\n",
       "    </tr>\n",
       "  </tbody>\n",
       "</table>\n",
       "</div>"
      ],
      "text/plain": [
       "                             antecedents  \\\n",
       "0  (BEADED CRYSTAL HEART GREEN ON STICK)   \n",
       "1   (BEADED CRYSTAL HEART PINK ON STICK)   \n",
       "2  (CHRISTMAS TREE DECORATION WITH BELL)   \n",
       "3      (CHRISTMAS TREE HEART DECORATION)   \n",
       "4  (CHRISTMAS TREE DECORATION WITH BELL)   \n",
       "5       (CHRISTMAS TREE STAR DECORATION)   \n",
       "6       (CHRISTMAS TREE STAR DECORATION)   \n",
       "\n",
       "                             consequents  antecedent support  \\\n",
       "0   (BEADED CRYSTAL HEART PINK ON STICK)              0.0126   \n",
       "1  (BEADED CRYSTAL HEART GREEN ON STICK)              0.0156   \n",
       "2      (CHRISTMAS TREE HEART DECORATION)              0.0140   \n",
       "3  (CHRISTMAS TREE DECORATION WITH BELL)              0.0140   \n",
       "4       (CHRISTMAS TREE STAR DECORATION)              0.0140   \n",
       "5  (CHRISTMAS TREE DECORATION WITH BELL)              0.0140   \n",
       "6      (CHRISTMAS TREE HEART DECORATION)              0.0140   \n",
       "\n",
       "   consequent support  support  confidence       lift  leverage  conviction  \\\n",
       "0              0.0156   0.0108    0.857143  54.945055  0.010603    6.890800   \n",
       "1              0.0126   0.0108    0.692308  54.945055  0.010603    3.209050   \n",
       "2              0.0140   0.0120    0.857143  61.224490  0.011804    6.902000   \n",
       "3              0.0140   0.0120    0.857143  61.224490  0.011804    6.902000   \n",
       "4              0.0140   0.0120    0.857143  61.224490  0.011804    6.902000   \n",
       "5              0.0140   0.0120    0.857143  61.224490  0.011804    6.902000   \n",
       "6              0.0140   0.0122    0.871429  62.244898  0.012004    7.668889   \n",
       "\n",
       "   zhangs_metric  \n",
       "0       0.994329  \n",
       "1       0.997359  \n",
       "2       0.997634  \n",
       "3       0.997634  \n",
       "4       0.997634  \n",
       "5       0.997634  \n",
       "6       0.997905  "
      ]
     },
     "execution_count": 44,
     "metadata": {},
     "output_type": "execute_result"
    }
   ],
   "source": [
    "rules2 = mlxtend.frequent_patterns.association_rules(\n",
    "    mod_colnames_minsupport, \n",
    "    metric=\"lift\",\n",
    "    min_threshold=50, \n",
    "    support_only=False\n",
    ")\n",
    "rules2.loc[0:6]"
   ]
  },
  {
   "cell_type": "code",
   "execution_count": null,
   "id": "44e33e98-4422-42b0-a064-a9f76e1cd98f",
   "metadata": {},
   "outputs": [],
   "source": []
  },
  {
   "cell_type": "markdown",
   "id": "68b1f218-e813-42f5-bd3f-00854543e5fd",
   "metadata": {},
   "source": [
    "4. Print the number of associations"
   ]
  },
  {
   "cell_type": "code",
   "execution_count": 45,
   "id": "39d8d674-46a5-4fbf-a416-fb540f55824c",
   "metadata": {},
   "outputs": [
    {
     "name": "stdout",
     "output_type": "stream",
     "text": [
      "Number of Associations: 170\n"
     ]
    }
   ],
   "source": [
    "print(\"Number of Associations: {}\".format(rules2.shape[0]))"
   ]
  },
  {
   "cell_type": "code",
   "execution_count": null,
   "id": "bcdeb1b2-8aa1-413e-814c-8db6c7064813",
   "metadata": {},
   "outputs": [],
   "source": []
  },
  {
   "cell_type": "markdown",
   "id": "c506a7cd-4214-4864-a3e9-ece19728d0fe",
   "metadata": {},
   "source": [
    "5. Plot confidence against support and identify specific trends in the data"
   ]
  },
  {
   "cell_type": "code",
   "execution_count": 46,
   "id": "dcb6ffbd-2995-4cc0-b57a-29ae848714a0",
   "metadata": {},
   "outputs": [
    {
     "data": {
      "image/png": "[encoded data removed]",
      "text/plain": [
       "<Figure size 640x480 with 1 Axes>"
      ]
     },
     "metadata": {},
     "output_type": "display_data"
    }
   ],
   "source": [
    "rules.plot.scatter(\"support\", \"confidence\", alpha=0.5, marker=\"*\")\n",
    "plt.xlabel(\"Support\")\n",
    "plt.ylabel(\"Confidence\")\n",
    "plt.title(\"Association Rules\")\n",
    "plt.show()"
   ]
  },
  {
   "cell_type": "code",
   "execution_count": null,
   "id": "c9a4f950-7cd4-4f2e-8798-ff8ad50da675",
   "metadata": {},
   "outputs": [],
   "source": []
  },
  {
   "cell_type": "markdown",
   "id": "9464a32b-a083-44de-b443-81155653b4f9",
   "metadata": {},
   "source": [
    "6. Look at the distribution of confidence"
   ]
  },
  {
   "cell_type": "code",
   "execution_count": 47,
   "id": "91500ee0-9551-4203-b011-23a913a03f55",
   "metadata": {},
   "outputs": [
    {
     "data": {
      "text/plain": [
       "Text(0.5, 1.0, 'Confidence')"
      ]
     },
     "execution_count": 47,
     "metadata": {},
     "output_type": "execute_result"
    },
    {
     "data": {
      "image/png": "[encoded data removed]",
      "text/plain": [
       "<Figure size 640x480 with 1 Axes>"
      ]
     },
     "metadata": {},
     "output_type": "display_data"
    }
   ],
   "source": [
    "rules.hist(\"confidence\", grid=False, bins=30)\n",
    "plt.title(\"Confidence\")"
   ]
  },
  {
   "cell_type": "code",
   "execution_count": null,
   "id": "8e20552d-2ee8-4ebb-ab1e-54996e3c5bd3",
   "metadata": {},
   "outputs": [],
   "source": []
  },
  {
   "cell_type": "markdown",
   "id": "33f9b3c1-bdd9-4429-afa1-f9b1198089d6",
   "metadata": {},
   "source": [
    "7. Now, look at the distribution of lift"
   ]
  },
  {
   "cell_type": "code",
   "execution_count": 48,
   "id": "afab2acb-d152-4303-9380-8f8af799abfc",
   "metadata": {},
   "outputs": [
    {
     "data": {
      "text/plain": [
       "Text(0.5, 1.0, 'Lift')"
      ]
     },
     "execution_count": 48,
     "metadata": {},
     "output_type": "execute_result"
    },
    {
     "data": {
      "image/png": "[encoded data removed]",
      "text/plain": [
       "<Figure size 640x480 with 1 Axes>"
      ]
     },
     "metadata": {},
     "output_type": "display_data"
    }
   ],
   "source": [
    "rules.hist(\"lift\", grid=False, bins=30)\n",
    "plt.title(\"Lift\")"
   ]
  },
  {
   "cell_type": "code",
   "execution_count": null,
   "id": "4b533190-d182-4a2f-a6b5-ffd833c7e0df",
   "metadata": {},
   "outputs": [],
   "source": []
  },
  {
   "cell_type": "markdown",
   "id": "64c5eff4-bd07-4600-84f4-ff4867670be4",
   "metadata": {},
   "source": [
    "8. Now, look at the distribution of leverage"
   ]
  },
  {
   "cell_type": "code",
   "execution_count": 49,
   "id": "fe214a01-3d78-45bc-a89f-e1e67dccce39",
   "metadata": {},
   "outputs": [
    {
     "data": {
      "image/png": "[encoded data removed]",
      "text/plain": [
       "<Figure size 640x480 with 1 Axes>"
      ]
     },
     "metadata": {},
     "output_type": "display_data"
    }
   ],
   "source": [
    "rules.hist(\"leverage\", grid=False, bins=30)\n",
    "plt.title(\"Leverage\");"
   ]
  },
  {
   "cell_type": "code",
   "execution_count": null,
   "id": "80ddaa05-36b6-4bd3-a1f8-93696126eeb4",
   "metadata": {},
   "outputs": [],
   "source": []
  },
  {
   "cell_type": "markdown",
   "id": "40788b50-5cb1-4b24-80ac-8566aef2612e",
   "metadata": {},
   "source": [
    "9. Now, look at the distribution of conviction"
   ]
  },
  {
   "cell_type": "code",
   "execution_count": 50,
   "id": "d8f2f853-0a54-416a-be8b-db07fda2ed80",
   "metadata": {},
   "outputs": [
    {
     "data": {
      "text/plain": [
       "Text(0.5, 1.0, 'Conviction')"
      ]
     },
     "execution_count": 50,
     "metadata": {},
     "output_type": "execute_result"
    },
    {
     "data": {
      "image/png": "[encoded data removed]",
      "text/plain": [
       "<Figure size 640x480 with 1 Axes>"
      ]
     },
     "metadata": {},
     "output_type": "display_data"
    }
   ],
   "source": [
    "plt.hist(\n",
    "    rules[numpy.isfinite(rules['conviction'])].conviction.values, \n",
    "    bins = 30\n",
    ")\n",
    "plt.title(\"Conviction\")"
   ]
  },
  {
   "cell_type": "code",
   "execution_count": null,
   "id": "89247fa6-7a97-4302-aaf2-cae22aa652ee",
   "metadata": {},
   "outputs": [],
   "source": []
  },
  {
   "cell_type": "markdown",
   "id": "af78f55d-5aa6-4d70-9720-4d04b4c74a12",
   "metadata": {},
   "source": [
    "# Activity 20: Finding the Association Rules on the Complete Online Retail Dataset"
   ]
  },
  {
   "cell_type": "markdown",
   "id": "33e8a4c8-3503-4c62-9454-55231dfa4f4b",
   "metadata": {},
   "source": [
    "1. Fit the association rule model on the full dataset. Use metric confidence and a minimum threshold of 0.6."
   ]
  },
  {
   "cell_type": "code",
   "execution_count": 51,
   "id": "d1ac0cbe-f6aa-42e3-aa07-d02883457d4c",
   "metadata": {},
   "outputs": [
    {
     "data": {
      "text/html": [
       "<div>\n",
       "<style scoped>\n",
       "    .dataframe tbody tr th:only-of-type {\n",
       "        vertical-align: middle;\n",
       "    }\n",
       "\n",
       "    .dataframe tbody tr th {\n",
       "        vertical-align: top;\n",
       "    }\n",
       "\n",
       "    .dataframe thead th {\n",
       "        text-align: right;\n",
       "    }\n",
       "</style>\n",
       "<table border=\"1\" class=\"dataframe\">\n",
       "  <thead>\n",
       "    <tr style=\"text-align: right;\">\n",
       "      <th></th>\n",
       "      <th>antecedents</th>\n",
       "      <th>consequents</th>\n",
       "      <th>antecedent support</th>\n",
       "      <th>consequent support</th>\n",
       "      <th>support</th>\n",
       "      <th>confidence</th>\n",
       "      <th>lift</th>\n",
       "      <th>leverage</th>\n",
       "      <th>conviction</th>\n",
       "      <th>zhangs_metric</th>\n",
       "    </tr>\n",
       "  </thead>\n",
       "  <tbody>\n",
       "    <tr>\n",
       "      <th>0</th>\n",
       "      <td>(12 PENCILS SMALL TUBE SKULL)</td>\n",
       "      <td>(12 PENCILS SMALL TUBE RED RETROSPOT)</td>\n",
       "      <td>0.0222</td>\n",
       "      <td>0.0276</td>\n",
       "      <td>0.0152</td>\n",
       "      <td>0.684685</td>\n",
       "      <td>24.807416</td>\n",
       "      <td>0.014587</td>\n",
       "      <td>3.083897</td>\n",
       "      <td>0.981478</td>\n",
       "    </tr>\n",
       "    <tr>\n",
       "      <th>1</th>\n",
       "      <td>(ALARM CLOCK BAKELIKE CHOCOLATE)</td>\n",
       "      <td>(ALARM CLOCK BAKELIKE GREEN)</td>\n",
       "      <td>0.0208</td>\n",
       "      <td>0.0546</td>\n",
       "      <td>0.0140</td>\n",
       "      <td>0.673077</td>\n",
       "      <td>12.327416</td>\n",
       "      <td>0.012864</td>\n",
       "      <td>2.891812</td>\n",
       "      <td>0.938399</td>\n",
       "    </tr>\n",
       "    <tr>\n",
       "      <th>2</th>\n",
       "      <td>(ALARM CLOCK BAKELIKE CHOCOLATE)</td>\n",
       "      <td>(ALARM CLOCK BAKELIKE RED )</td>\n",
       "      <td>0.0208</td>\n",
       "      <td>0.0520</td>\n",
       "      <td>0.0140</td>\n",
       "      <td>0.673077</td>\n",
       "      <td>12.943787</td>\n",
       "      <td>0.012918</td>\n",
       "      <td>2.899765</td>\n",
       "      <td>0.942344</td>\n",
       "    </tr>\n",
       "    <tr>\n",
       "      <th>3</th>\n",
       "      <td>(ALARM CLOCK BAKELIKE IVORY)</td>\n",
       "      <td>(ALARM CLOCK BAKELIKE GREEN)</td>\n",
       "      <td>0.0268</td>\n",
       "      <td>0.0546</td>\n",
       "      <td>0.0164</td>\n",
       "      <td>0.611940</td>\n",
       "      <td>11.207698</td>\n",
       "      <td>0.014937</td>\n",
       "      <td>2.436223</td>\n",
       "      <td>0.935857</td>\n",
       "    </tr>\n",
       "    <tr>\n",
       "      <th>4</th>\n",
       "      <td>(ALARM CLOCK BAKELIKE ORANGE)</td>\n",
       "      <td>(ALARM CLOCK BAKELIKE GREEN)</td>\n",
       "      <td>0.0278</td>\n",
       "      <td>0.0546</td>\n",
       "      <td>0.0208</td>\n",
       "      <td>0.748201</td>\n",
       "      <td>13.703323</td>\n",
       "      <td>0.019282</td>\n",
       "      <td>3.754589</td>\n",
       "      <td>0.953533</td>\n",
       "    </tr>\n",
       "    <tr>\n",
       "      <th>5</th>\n",
       "      <td>(ALARM CLOCK BAKELIKE RED )</td>\n",
       "      <td>(ALARM CLOCK BAKELIKE GREEN)</td>\n",
       "      <td>0.0520</td>\n",
       "      <td>0.0546</td>\n",
       "      <td>0.0358</td>\n",
       "      <td>0.688462</td>\n",
       "      <td>12.609186</td>\n",
       "      <td>0.032961</td>\n",
       "      <td>3.034617</td>\n",
       "      <td>0.971195</td>\n",
       "    </tr>\n",
       "    <tr>\n",
       "      <th>6</th>\n",
       "      <td>(ALARM CLOCK BAKELIKE GREEN)</td>\n",
       "      <td>(ALARM CLOCK BAKELIKE RED )</td>\n",
       "      <td>0.0546</td>\n",
       "      <td>0.0520</td>\n",
       "      <td>0.0358</td>\n",
       "      <td>0.655678</td>\n",
       "      <td>12.609186</td>\n",
       "      <td>0.032961</td>\n",
       "      <td>2.753234</td>\n",
       "      <td>0.973866</td>\n",
       "    </tr>\n",
       "  </tbody>\n",
       "</table>\n",
       "</div>"
      ],
      "text/plain": [
       "                        antecedents                            consequents  \\\n",
       "0     (12 PENCILS SMALL TUBE SKULL)  (12 PENCILS SMALL TUBE RED RETROSPOT)   \n",
       "1  (ALARM CLOCK BAKELIKE CHOCOLATE)           (ALARM CLOCK BAKELIKE GREEN)   \n",
       "2  (ALARM CLOCK BAKELIKE CHOCOLATE)            (ALARM CLOCK BAKELIKE RED )   \n",
       "3      (ALARM CLOCK BAKELIKE IVORY)           (ALARM CLOCK BAKELIKE GREEN)   \n",
       "4     (ALARM CLOCK BAKELIKE ORANGE)           (ALARM CLOCK BAKELIKE GREEN)   \n",
       "5       (ALARM CLOCK BAKELIKE RED )           (ALARM CLOCK BAKELIKE GREEN)   \n",
       "6      (ALARM CLOCK BAKELIKE GREEN)            (ALARM CLOCK BAKELIKE RED )   \n",
       "\n",
       "   antecedent support  consequent support  support  confidence       lift  \\\n",
       "0              0.0222              0.0276   0.0152    0.684685  24.807416   \n",
       "1              0.0208              0.0546   0.0140    0.673077  12.327416   \n",
       "2              0.0208              0.0520   0.0140    0.673077  12.943787   \n",
       "3              0.0268              0.0546   0.0164    0.611940  11.207698   \n",
       "4              0.0278              0.0546   0.0208    0.748201  13.703323   \n",
       "5              0.0520              0.0546   0.0358    0.688462  12.609186   \n",
       "6              0.0546              0.0520   0.0358    0.655678  12.609186   \n",
       "\n",
       "   leverage  conviction  zhangs_metric  \n",
       "0  0.014587    3.083897       0.981478  \n",
       "1  0.012864    2.891812       0.938399  \n",
       "2  0.012918    2.899765       0.942344  \n",
       "3  0.014937    2.436223       0.935857  \n",
       "4  0.019282    3.754589       0.953533  \n",
       "5  0.032961    3.034617       0.971195  \n",
       "6  0.032961    2.753234       0.973866  "
      ]
     },
     "execution_count": 51,
     "metadata": {},
     "output_type": "execute_result"
    }
   ],
   "source": [
    "rules = mlxtend.frequent_patterns.association_rules(\n",
    "    mod_colnames_minsupport, \n",
    "    metric=\"confidence\",\n",
    "    min_threshold=0.6, \n",
    "    support_only=False\n",
    ")\n",
    "rules.loc[0:6]"
   ]
  },
  {
   "cell_type": "code",
   "execution_count": null,
   "id": "dd5a1c05-fad5-4dd4-87a4-9bf60f7c98e2",
   "metadata": {},
   "outputs": [],
   "source": []
  },
  {
   "cell_type": "markdown",
   "id": "9fad1daf-85b7-4974-a322-508f1ffa8b5b",
   "metadata": {},
   "source": [
    "2. Count the number of association rules. Is the number different to that found in step 1 of Exercise 45, Deriving Association Rules?"
   ]
  },
  {
   "cell_type": "code",
   "execution_count": 52,
   "id": "0871da4f-9cff-4283-88d2-87d3cae89cc0",
   "metadata": {},
   "outputs": [
    {
     "name": "stdout",
     "output_type": "stream",
     "text": [
      "Number of Associations: 1064\n"
     ]
    }
   ],
   "source": [
    "print(\"Number of Associations: {}\".format(rules.shape[0]))"
   ]
  },
  {
   "cell_type": "code",
   "execution_count": null,
   "id": "ea84c749-1c89-4c75-8e22-aeceefb74c99",
   "metadata": {},
   "outputs": [],
   "source": []
  },
  {
   "cell_type": "markdown",
   "id": "49589743-8c93-429d-b33e-9482d3319422",
   "metadata": {},
   "source": [
    "3. Plot confidence against support"
   ]
  },
  {
   "cell_type": "code",
   "execution_count": 53,
   "id": "1bdc0452-d345-4039-a4db-b98cddd53398",
   "metadata": {},
   "outputs": [
    {
     "data": {
      "image/png": "[encoded data removed]",
      "text/plain": [
       "<Figure size 640x480 with 1 Axes>"
      ]
     },
     "metadata": {},
     "output_type": "display_data"
    }
   ],
   "source": [
    "rules.plot.scatter(\"support\", \"confidence\", alpha=0.5, marker=\"*\")\n",
    "plt.xlabel(\"Support\")\n",
    "plt.ylabel(\"Confidence\")\n",
    "plt.title(\"Association Rules\")\n",
    "plt.show()"
   ]
  },
  {
   "cell_type": "code",
   "execution_count": null,
   "id": "c5380cbc-55ea-427d-805c-d7d73013ed44",
   "metadata": {},
   "outputs": [],
   "source": []
  },
  {
   "cell_type": "markdown",
   "id": "a3c22793-3f13-4472-a827-336c51ee3f2b",
   "metadata": {},
   "source": [
    "4. Look at the distributions of confidence, lift, leverage, and conviction."
   ]
  },
  {
   "cell_type": "code",
   "execution_count": 54,
   "id": "ce6a977c-5854-475f-adf8-c02eaada5d8d",
   "metadata": {},
   "outputs": [
    {
     "data": {
      "text/plain": [
       "Text(0.5, 1.0, 'Lift')"
      ]
     },
     "execution_count": 54,
     "metadata": {},
     "output_type": "execute_result"
    },
    {
     "data": {
      "image/png": "[encoded data removed]",
      "text/plain": [
       "<Figure size 640x480 with 1 Axes>"
      ]
     },
     "metadata": {},
     "output_type": "display_data"
    }
   ],
   "source": [
    "rules.hist(\"lift\", grid=False, bins=30)\n",
    "plt.title(\"Lift\")"
   ]
  },
  {
   "cell_type": "code",
   "execution_count": 55,
   "id": "6fba8d3f-99a7-4018-b30e-ce2fa51d67ed",
   "metadata": {},
   "outputs": [
    {
     "data": {
      "text/plain": [
       "Text(0.5, 1.0, 'Leverage')"
      ]
     },
     "execution_count": 55,
     "metadata": {},
     "output_type": "execute_result"
    },
    {
     "data": {
      "image/png": "[encoded data removed]",
      "text/plain": [
       "<Figure size 640x480 with 1 Axes>"
      ]
     },
     "metadata": {},
     "output_type": "display_data"
    }
   ],
   "source": [
    "rules.hist(\"leverage\", grid=False, bins=30)\n",
    "plt.title(\"Leverage\")"
   ]
  },
  {
   "cell_type": "code",
   "execution_count": 56,
   "id": "eeff5313-2979-47d2-8166-1e7178687402",
   "metadata": {
    "tags": []
   },
   "outputs": [
    {
     "data": {
      "text/plain": [
       "Text(0.5, 1.0, 'Conviction')"
      ]
     },
     "execution_count": 56,
     "metadata": {},
     "output_type": "execute_result"
    },
    {
     "data": {
      "image/png": "[encoded data removed]",
      "text/plain": [
       "<Figure size 640x480 with 1 Axes>"
      ]
     },
     "metadata": {},
     "output_type": "display_data"
    }
   ],
   "source": [
    "plt.hist(\n",
    "    rules[numpy.isfinite(rules['conviction'])].conviction.values, \n",
    "    bins = 30\n",
    ")\n",
    "plt.title(\"Conviction\")"
   ]
  }
 ],
 "metadata": {
  "kernelspec": {
   "display_name": "Python 3 (ipykernel)",
   "language": "python",
   "name": "python3"
  },
  "language_info": {
   "codemirror_mode": {
    "name": "ipython",
    "version": 3
   },
   "file_extension": ".py",
   "mimetype": "text/x-python",
   "name": "python",
   "nbconvert_exporter": "python",
   "pygments_lexer": "ipython3",
   "version": "3.11.4"
  }
 },
 "nbformat": 4,
 "nbformat_minor": 5
}
