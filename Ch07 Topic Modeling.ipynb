{
 "cells": [
  {
   "cell_type": "markdown",
   "id": "948c912d-f0c0-4499-8575-d34407baab08",
   "metadata": {},
   "source": [
    "# Ch07 Topic Modeling"
   ]
  },
  {
   "cell_type": "markdown",
   "id": "6430746c-939c-409b-b371-16c713c52e87",
   "metadata": {},
   "source": [
    "# Exercise 27: Setting Up the Environment"
   ]
  },
  {
   "cell_type": "markdown",
   "id": "c54048ae-4f40-4641-afa7-d4e5aa20c03a",
   "metadata": {},
   "source": [
    "1. Open a new Jupyter notebook"
   ]
  },
  {
   "cell_type": "markdown",
   "id": "d611155e-ce3a-4a69-8b56-aca3a7bc8ce8",
   "metadata": {},
   "source": [
    "2. Import the requisite libraries"
   ]
  },
  {
   "cell_type": "code",
   "execution_count": 4,
   "id": "2c034210-9063-4958-ac25-b565388c90a5",
   "metadata": {
    "tags": []
   },
   "outputs": [
    {
     "name": "stdout",
     "output_type": "stream",
     "text": [
      "Collecting langdetect\n",
      "  Downloading langdetect-1.0.9.tar.gz (981 kB)\n",
      "     ---------------------------------------- 0.0/981.5 kB ? eta -:--:--\n",
      "     ---------------------------------------- 10.2/981.5 kB ? eta -:--:--\n",
      "     --- ----------------------------------- 92.2/981.5 kB 1.3 MB/s eta 0:00:01\n",
      "     ---- ------------------------------- 122.9/981.5 kB 901.1 kB/s eta 0:00:01\n",
      "     ----- ------------------------------ 153.6/981.5 kB 833.5 kB/s eta 0:00:01\n",
      "     ------- ---------------------------- 204.8/981.5 kB 958.4 kB/s eta 0:00:01\n",
      "     ---------- --------------------------- 276.5/981.5 kB 1.0 MB/s eta 0:00:01\n",
      "     ------------ ------------------------- 317.4/981.5 kB 1.0 MB/s eta 0:00:01\n",
      "     --------------- ---------------------- 389.1/981.5 kB 1.1 MB/s eta 0:00:01\n",
      "     ----------------- -------------------- 450.6/981.5 kB 1.1 MB/s eta 0:00:01\n",
      "     -------------------- ----------------- 532.5/981.5 kB 1.2 MB/s eta 0:00:01\n",
      "     ---------------------- --------------- 573.4/981.5 kB 1.2 MB/s eta 0:00:01\n",
      "     ------------------------ ------------- 645.1/981.5 kB 1.2 MB/s eta 0:00:01\n",
      "     --------------------------- ---------- 706.6/981.5 kB 1.2 MB/s eta 0:00:01\n",
      "     ----------------------------- -------- 757.8/981.5 kB 1.2 MB/s eta 0:00:01\n",
      "     ------------------------------- ------ 819.2/981.5 kB 1.2 MB/s eta 0:00:01\n",
      "     ---------------------------------- --- 890.9/981.5 kB 1.2 MB/s eta 0:00:01\n",
      "     ------------------------------------ - 952.3/981.5 kB 1.2 MB/s eta 0:00:01\n",
      "     -------------------------------------- 981.5/981.5 kB 1.2 MB/s eta 0:00:00\n",
      "  Preparing metadata (setup.py): started\n",
      "  Preparing metadata (setup.py): finished with status 'done'\n",
      "Requirement already satisfied: six in c:\\programdata\\anaconda3\\lib\\site-packages (from langdetect) (1.16.0)\n",
      "Building wheels for collected packages: langdetect\n",
      "  Building wheel for langdetect (setup.py): started\n",
      "  Building wheel for langdetect (setup.py): finished with status 'done'\n",
      "  Created wheel for langdetect: filename=langdetect-1.0.9-py3-none-any.whl size=993253 sha256=fa94c2fcf5ae91dafeb510fac09176e68cca82a1ef79d57efdd1848a44656946\n",
      "  Stored in directory: c:\\users\\patwh\\appdata\\local\\pip\\cache\\wheels\\0a\\f2\\b2\\e5ca405801e05eb7c8ed5b3b4bcf1fcabcd6272c167640072e\n",
      "Successfully built langdetect\n",
      "Installing collected packages: langdetect\n",
      "Successfully installed langdetect-1.0.9\n"
     ]
    }
   ],
   "source": [
    "!pip install langdetect"
   ]
  },
  {
   "cell_type": "code",
   "execution_count": 6,
   "id": "502f1694-5b5e-440b-aa93-7bdb01f46da5",
   "metadata": {
    "tags": []
   },
   "outputs": [
    {
     "name": "stdout",
     "output_type": "stream",
     "text": [
      "Collecting pyLDAvis\n",
      "  Downloading pyLDAvis-3.4.1-py3-none-any.whl (2.6 MB)\n",
      "     ---------------------------------------- 0.0/2.6 MB ? eta -:--:--\n",
      "      --------------------------------------- 0.0/2.6 MB 991.0 kB/s eta 0:00:03\n",
      "     - -------------------------------------- 0.1/2.6 MB 1.3 MB/s eta 0:00:02\n",
      "     -- ------------------------------------- 0.2/2.6 MB 1.1 MB/s eta 0:00:03\n",
      "     --- ------------------------------------ 0.2/2.6 MB 1.1 MB/s eta 0:00:03\n",
      "     ---- ----------------------------------- 0.3/2.6 MB 1.2 MB/s eta 0:00:02\n",
      "     ----- ---------------------------------- 0.3/2.6 MB 1.2 MB/s eta 0:00:02\n",
      "     ----- ---------------------------------- 0.4/2.6 MB 1.2 MB/s eta 0:00:02\n",
      "     ------ --------------------------------- 0.5/2.6 MB 1.2 MB/s eta 0:00:02\n",
      "     ------- -------------------------------- 0.5/2.6 MB 1.2 MB/s eta 0:00:02\n",
      "     -------- ------------------------------- 0.6/2.6 MB 1.3 MB/s eta 0:00:02\n",
      "     --------- ------------------------------ 0.6/2.6 MB 1.3 MB/s eta 0:00:02\n",
      "     ---------- ----------------------------- 0.7/2.6 MB 1.3 MB/s eta 0:00:02\n",
      "     ----------- ---------------------------- 0.8/2.6 MB 1.3 MB/s eta 0:00:02\n",
      "     ------------ --------------------------- 0.8/2.6 MB 1.3 MB/s eta 0:00:02\n",
      "     ------------- -------------------------- 0.9/2.6 MB 1.3 MB/s eta 0:00:02\n",
      "     -------------- ------------------------- 1.0/2.6 MB 1.3 MB/s eta 0:00:02\n",
      "     --------------- ------------------------ 1.0/2.6 MB 1.3 MB/s eta 0:00:02\n",
      "     ----------------- ---------------------- 1.1/2.6 MB 1.4 MB/s eta 0:00:02\n",
      "     ------------------ --------------------- 1.2/2.6 MB 1.4 MB/s eta 0:00:02\n",
      "     ------------------- -------------------- 1.3/2.6 MB 1.4 MB/s eta 0:00:01\n",
      "     -------------------- ------------------- 1.4/2.6 MB 1.4 MB/s eta 0:00:01\n",
      "     ---------------------- ----------------- 1.4/2.6 MB 1.4 MB/s eta 0:00:01\n",
      "     ----------------------- ---------------- 1.5/2.6 MB 1.4 MB/s eta 0:00:01\n",
      "     ------------------------ --------------- 1.6/2.6 MB 1.4 MB/s eta 0:00:01\n",
      "     ------------------------- -------------- 1.7/2.6 MB 1.5 MB/s eta 0:00:01\n",
      "     --------------------------- ------------ 1.8/2.6 MB 1.5 MB/s eta 0:00:01\n",
      "     ---------------------------- ----------- 1.9/2.6 MB 1.5 MB/s eta 0:00:01\n",
      "     ----------------------------- ---------- 1.9/2.6 MB 1.5 MB/s eta 0:00:01\n",
      "     ------------------------------- -------- 2.0/2.6 MB 1.5 MB/s eta 0:00:01\n",
      "     -------------------------------- ------- 2.1/2.6 MB 1.5 MB/s eta 0:00:01\n",
      "     ---------------------------------- ----- 2.2/2.6 MB 1.6 MB/s eta 0:00:01\n",
      "     ----------------------------------- ---- 2.3/2.6 MB 1.6 MB/s eta 0:00:01\n",
      "     ------------------------------------ --- 2.4/2.6 MB 1.6 MB/s eta 0:00:01\n",
      "     -------------------------------------- - 2.5/2.6 MB 1.6 MB/s eta 0:00:01\n",
      "     ---------------------------------------  2.6/2.6 MB 1.6 MB/s eta 0:00:01\n",
      "     ---------------------------------------- 2.6/2.6 MB 1.6 MB/s eta 0:00:00\n",
      "Requirement already satisfied: numpy>=1.24.2 in c:\\users\\patwh\\appdata\\roaming\\python\\python311\\site-packages (from pyLDAvis) (1.24.4)\n",
      "Requirement already satisfied: scipy in c:\\programdata\\anaconda3\\lib\\site-packages (from pyLDAvis) (1.10.1)\n",
      "Requirement already satisfied: pandas>=2.0.0 in c:\\users\\patwh\\appdata\\roaming\\python\\python311\\site-packages (from pyLDAvis) (2.1.0)\n",
      "Requirement already satisfied: joblib>=1.2.0 in c:\\programdata\\anaconda3\\lib\\site-packages (from pyLDAvis) (1.2.0)\n",
      "Requirement already satisfied: jinja2 in c:\\programdata\\anaconda3\\lib\\site-packages (from pyLDAvis) (3.1.2)\n",
      "Requirement already satisfied: numexpr in c:\\programdata\\anaconda3\\lib\\site-packages (from pyLDAvis) (2.8.4)\n",
      "Collecting funcy (from pyLDAvis)\n",
      "  Downloading funcy-2.0-py2.py3-none-any.whl (30 kB)\n",
      "Requirement already satisfied: scikit-learn>=1.0.0 in c:\\users\\patwh\\appdata\\roaming\\python\\python311\\site-packages (from pyLDAvis) (1.3.0)\n",
      "Requirement already satisfied: gensim in c:\\programdata\\anaconda3\\lib\\site-packages (from pyLDAvis) (4.3.0)\n",
      "Requirement already satisfied: setuptools in c:\\programdata\\anaconda3\\lib\\site-packages (from pyLDAvis) (68.0.0)\n",
      "Requirement already satisfied: python-dateutil>=2.8.2 in c:\\programdata\\anaconda3\\lib\\site-packages (from pandas>=2.0.0->pyLDAvis) (2.8.2)\n",
      "Requirement already satisfied: pytz>=2020.1 in c:\\programdata\\anaconda3\\lib\\site-packages (from pandas>=2.0.0->pyLDAvis) (2022.7)\n",
      "Requirement already satisfied: tzdata>=2022.1 in c:\\users\\patwh\\appdata\\roaming\\python\\python311\\site-packages (from pandas>=2.0.0->pyLDAvis) (2023.3)\n",
      "Requirement already satisfied: threadpoolctl>=2.0.0 in c:\\programdata\\anaconda3\\lib\\site-packages (from scikit-learn>=1.0.0->pyLDAvis) (2.2.0)\n",
      "Requirement already satisfied: smart-open>=1.8.1 in c:\\programdata\\anaconda3\\lib\\site-packages (from gensim->pyLDAvis) (5.2.1)\n",
      "Requirement already satisfied: FuzzyTM>=0.4.0 in c:\\users\\patwh\\appdata\\roaming\\python\\python311\\site-packages (from gensim->pyLDAvis) (2.0.5)\n",
      "Requirement already satisfied: MarkupSafe>=2.0 in c:\\programdata\\anaconda3\\lib\\site-packages (from jinja2->pyLDAvis) (2.1.1)\n",
      "Requirement already satisfied: pyfume in c:\\users\\patwh\\appdata\\roaming\\python\\python311\\site-packages (from FuzzyTM>=0.4.0->gensim->pyLDAvis) (0.2.25)\n",
      "Requirement already satisfied: six>=1.5 in c:\\programdata\\anaconda3\\lib\\site-packages (from python-dateutil>=2.8.2->pandas>=2.0.0->pyLDAvis) (1.16.0)\n",
      "Requirement already satisfied: simpful in c:\\users\\patwh\\appdata\\roaming\\python\\python311\\site-packages (from pyfume->FuzzyTM>=0.4.0->gensim->pyLDAvis) (2.11.0)\n",
      "Requirement already satisfied: fst-pso in c:\\users\\patwh\\appdata\\roaming\\python\\python311\\site-packages (from pyfume->FuzzyTM>=0.4.0->gensim->pyLDAvis) (1.8.1)\n",
      "Requirement already satisfied: miniful in c:\\users\\patwh\\appdata\\roaming\\python\\python311\\site-packages (from fst-pso->pyfume->FuzzyTM>=0.4.0->gensim->pyLDAvis) (0.0.6)\n",
      "Installing collected packages: funcy, pyLDAvis\n",
      "Successfully installed funcy-2.0 pyLDAvis-3.4.1\n"
     ]
    }
   ],
   "source": [
    "!pip install pyLDAvis"
   ]
  },
  {
   "cell_type": "code",
   "execution_count": 7,
   "id": "5c979024-59a5-4604-9b8f-398a3cbf8cfa",
   "metadata": {},
   "outputs": [
    {
     "ename": "ModuleNotFoundError",
     "evalue": "No module named 'pyLDAvis.sklearn'",
     "output_type": "error",
     "traceback": [
      "\u001b[1;31m---------------------------------------------------------------------------\u001b[0m",
      "\u001b[1;31mModuleNotFoundError\u001b[0m                       Traceback (most recent call last)",
      "Cell \u001b[1;32mIn[7], line 7\u001b[0m\n\u001b[0;32m      5\u001b[0m \u001b[38;5;28;01mimport\u001b[39;00m \u001b[38;5;21;01mpandas\u001b[39;00m\n\u001b[0;32m      6\u001b[0m \u001b[38;5;28;01mimport\u001b[39;00m \u001b[38;5;21;01mpyLDAvis\u001b[39;00m\n\u001b[1;32m----> 7\u001b[0m \u001b[38;5;28;01mimport\u001b[39;00m \u001b[38;5;21;01mpyLDAvis\u001b[39;00m\u001b[38;5;21;01m.\u001b[39;00m\u001b[38;5;21;01msklearn\u001b[39;00m\n\u001b[0;32m      8\u001b[0m \u001b[38;5;28;01mimport\u001b[39;00m \u001b[38;5;21;01mregex\u001b[39;00m\n\u001b[0;32m      9\u001b[0m \u001b[38;5;28;01mimport\u001b[39;00m \u001b[38;5;21;01msklearn\u001b[39;00m\n",
      "\u001b[1;31mModuleNotFoundError\u001b[0m: No module named 'pyLDAvis.sklearn'"
     ]
    }
   ],
   "source": [
    "import langdetect\n",
    "import matplotlib.pyplot\n",
    "import nltk\n",
    "import numpy\n",
    "import pandas\n",
    "import pyLDAvis\n",
    "import pyLDAvis.sklearn\n",
    "import regex\n",
    "import sklearn"
   ]
  },
  {
   "cell_type": "code",
   "execution_count": 8,
   "id": "39f7a848-3f2f-489b-8533-8b1cb8dcafa0",
   "metadata": {
    "tags": []
   },
   "outputs": [
    {
     "name": "stderr",
     "output_type": "stream",
     "text": [
      "ERROR: Could not find a version that satisfies the requirement pyLDAvis.sklearn (from versions: none)\n",
      "ERROR: No matching distribution found for pyLDAvis.sklearn\n"
     ]
    }
   ],
   "source": [
    "!pip install pyLDAvis.sklearn"
   ]
  },
  {
   "cell_type": "code",
   "execution_count": null,
   "id": "9d399ce0-1a28-407f-a959-d2933cb9eddc",
   "metadata": {},
   "outputs": [],
   "source": []
  },
  {
   "cell_type": "markdown",
   "id": "b8450d3e-0742-496d-9c5f-c01bbe84e6d0",
   "metadata": {},
   "source": [
    "3. Libraries not yet installed will return the following error"
   ]
  },
  {
   "cell_type": "markdown",
   "id": "49538897-e624-47e7-9132-683b70d8e29b",
   "metadata": {},
   "source": [
    "4. Certain textual data cleaning and preprocessing processes require word dictionaries (more to come). In this step, we will install two of these dictionaries. If the nltk library is imported, the following code can be executed"
   ]
  },
  {
   "cell_type": "code",
   "execution_count": null,
   "id": "21a2377c-9f11-4c15-ba43-5028a986dfbe",
   "metadata": {},
   "outputs": [],
   "source": [
    "nltk.download('wordnet')\n",
    "nltk.download('stopwords')"
   ]
  },
  {
   "cell_type": "code",
   "execution_count": null,
   "id": "544eeb7c-0cd5-41af-a4ab-4a8ad8b35a89",
   "metadata": {},
   "outputs": [],
   "source": []
  },
  {
   "cell_type": "markdown",
   "id": "e0ca1c0c-6f13-460a-ad9c-e0a2c98d9060",
   "metadata": {},
   "source": [
    "5. Run the matplotlib magic and specify inline so that the plots print inside the notebook"
   ]
  },
  {
   "cell_type": "code",
   "execution_count": null,
   "id": "1624ec0a-4539-4242-8858-ea2bc94cf365",
   "metadata": {},
   "outputs": [],
   "source": [
    "%matplotlib inline"
   ]
  },
  {
   "cell_type": "code",
   "execution_count": null,
   "id": "6097a056-634a-4d84-b5e4-37464c792c00",
   "metadata": {},
   "outputs": [],
   "source": []
  }
 ],
 "metadata": {
  "kernelspec": {
   "display_name": "Python 3 (ipykernel)",
   "language": "python",
   "name": "python3"
  },
  "language_info": {
   "codemirror_mode": {
    "name": "ipython",
    "version": 3
   },
   "file_extension": ".py",
   "mimetype": "text/x-python",
   "name": "python",
   "nbconvert_exporter": "python",
   "pygments_lexer": "ipython3",
   "version": "3.11.4"
  }
 },
 "nbformat": 4,
 "nbformat_minor": 5
}
